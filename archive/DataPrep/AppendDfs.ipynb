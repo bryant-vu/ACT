{
 "cells": [
  {
   "cell_type": "code",
   "execution_count": 17,
   "metadata": {},
   "outputs": [],
   "source": [
    "import pandas as pd, docx2txt\n",
    "from io import StringIO\n",
    "import os\n",
    "import re"
   ]
  },
  {
   "cell_type": "code",
   "execution_count": 30,
   "metadata": {},
   "outputs": [],
   "source": [
    "var = ['AbsoluteValues','Circles','CoordinateGeometry','DataInterpretation','EquationSetUp','ExponentialRules','FoilFactorMultiple','GeometryRules','ImaginaryNumbers','Inequalities','Lines','Logs','Matrices','MeanMedianMode','PercentProbabilityCombination','PerimeterAreaVolume','PlugInNumbers','RatioAndProportions','RationalFunction','Sequences','Simplify','SohCahToa','SolvingAlgebra','SystemsOfEquations','Transformations','Triangles','Trig','Vocab']\n",
    "header = ['id','topic','date','qNum','qStatement','a1','a2','a3','a4','a5','pic']"
   ]
  },
  {
   "cell_type": "code",
   "execution_count": 31,
   "metadata": {},
   "outputs": [],
   "source": [
    "df = pd.DataFrame(columns=header)"
   ]
  },
  {
   "cell_type": "code",
   "execution_count": 39,
   "metadata": {},
   "outputs": [],
   "source": [
    "for topic in var:\n",
    "    dfTemp = pd.read_csv(\"C://Users/Bryant/Documents/GitHub/ACT/archive/DataPrep/\"+ topic +\".csv\", names=header)\n",
    "    df = df.append(dfTemp, ignore_index=True)"
   ]
  },
  {
   "cell_type": "code",
   "execution_count": 42,
   "metadata": {},
   "outputs": [],
   "source": [
    "from pandas import DataFrame\n",
    "#export to .csv excluding index and header\n",
    "df.to_csv('db.csv', index=False, header=header)"
   ]
  },
  {
   "cell_type": "code",
   "execution_count": null,
   "metadata": {},
   "outputs": [],
   "source": []
  }
 ],
 "metadata": {
  "kernelspec": {
   "display_name": "Python [default]",
   "language": "python",
   "name": "python3"
  },
  "language_info": {
   "codemirror_mode": {
    "name": "ipython",
    "version": 3
   },
   "file_extension": ".py",
   "mimetype": "text/x-python",
   "name": "python",
   "nbconvert_exporter": "python",
   "pygments_lexer": "ipython3",
   "version": "3.5.5"
  }
 },
 "nbformat": 4,
 "nbformat_minor": 2
}
