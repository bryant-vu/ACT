{
 "cells": [
  {
   "cell_type": "code",
   "execution_count": 49,
   "metadata": {},
   "outputs": [],
   "source": [
    "import pandas as pd, docx2txt\n",
    "from io import StringIO\n",
    "import os\n",
    "import re"
   ]
  },
  {
   "cell_type": "code",
   "execution_count": 50,
   "metadata": {},
   "outputs": [],
   "source": [
    "#read .docx into jupyter\n",
    "text = docx2txt.process (\"C://Users/Bryant/Documents/GitHub/ACT/archive/DataPrep/ACT Math Sheets_v2_3_9_18/Mean, Median, Mode.docx\")"
   ]
  },
  {
   "cell_type": "code",
   "execution_count": 51,
   "metadata": {},
   "outputs": [],
   "source": [
    "text;"
   ]
  },
  {
   "cell_type": "markdown",
   "metadata": {},
   "source": [
    "## Clean text. Each question will need the following categories:\n",
    "\n",
    "#### - ID (to be used as a Primary Key in MySQL db)\n",
    "#### - Test Date\n",
    "#### - Question Number\n",
    "#### - Question Statement\n",
    "#### - Answer Choices (one choice for each column, 5 total)\n",
    "#### - Picture (if necessary)"
   ]
  },
  {
   "cell_type": "code",
   "execution_count": 52,
   "metadata": {},
   "outputs": [],
   "source": [
    "#split text into list separated by \\n\\n i.e. 'enter' button\n",
    "text_split = [line for line in StringIO(text).read().split('\\n\\n')]"
   ]
  },
  {
   "cell_type": "code",
   "execution_count": 53,
   "metadata": {},
   "outputs": [],
   "source": [
    "#remove empty entries and spaces\n",
    "try:\n",
    "    text_split.remove('')\n",
    "    text_split.remove(' ')\n",
    "except:\n",
    "    pass"
   ]
  },
  {
   "cell_type": "code",
   "execution_count": 54,
   "metadata": {
    "scrolled": true
   },
   "outputs": [],
   "source": [
    "text_split;"
   ]
  },
  {
   "cell_type": "code",
   "execution_count": 55,
   "metadata": {},
   "outputs": [],
   "source": [
    "\n",
    "\n",
    "#store topic\n",
    "topic = text_split[0]\n",
    "full_list = []\n",
    "new = []\n",
    "for line in text_split[1:]:\n",
    "    #store month and year of test date\n",
    "    if re.search('(^December|June|April|July)', line):\n",
    "        month = re.search('(^December|June|April|July)', line).group()\n",
    "        year = re.search('$2010|2011|2012|2013|2014|2015|2016|2017|2018|2019|2020',line).group()\n",
    "        #continue to next iteration if test date is found\n",
    "        continue\n",
    "        \n",
    "    #look for question number to initiate a new row entry\n",
    "    #len(line) > 10 to avoid finding answers that begin with numbers\n",
    "    if re.search('^..\\.', line) and len(line) > 10:\n",
    "        #append existing list to full_list, then reinitiate 'new' row\n",
    "        if len(new) > 0:\n",
    "            full_list.append(new)\n",
    "            new = []\n",
    "        #append various data for 'new' row entry \n",
    "        num = re.search('^..\\.', line).group().replace(\".\",\"\")\n",
    "        #id column\n",
    "        new.append(month[0:3] + \".\" + year + \".\" + num)\n",
    "        new.append(topic)\n",
    "        new.append(month + \".\" + year)\n",
    "        new.append(num)\n",
    "        #question statement\n",
    "        new.append(line)\n",
    "        continue\n",
    "\n",
    "    #same as previous block with exception re.search looking for single digits\n",
    "    if re.search('^.\\.', line) and len(line) > 10:\n",
    "        if len(new) > 0:\n",
    "            full_list.append(new)\n",
    "            new = []\n",
    "        #store question  number    \n",
    "        num = re.search('^.\\.', line).group().replace(\".\",\"\")\n",
    "        new.append(month[0:3] + \".\" + year + \".\" + num)\n",
    "        new.append(topic)\n",
    "        new.append(month + \".\" + year)\n",
    "        new.append(num)\n",
    "        new.append(line)\n",
    "        continue\n",
    "    #only lines that reach 'else' statement should be answer choices; append to list   \n",
    "    else:\n",
    "        new.append(line)"
   ]
  },
  {
   "cell_type": "code",
   "execution_count": 56,
   "metadata": {
    "scrolled": true
   },
   "outputs": [],
   "source": [
    "full_list;"
   ]
  },
  {
   "cell_type": "markdown",
   "metadata": {},
   "source": [
    "## ready file for import into MySQL db"
   ]
  },
  {
   "cell_type": "code",
   "execution_count": 57,
   "metadata": {},
   "outputs": [],
   "source": [
    "#prep for import into MySQL db\n",
    "\n",
    "from pandas import DataFrame\n",
    "#convert list to df\n",
    "df = DataFrame.from_records(full_list)\n",
    "#export to .csv excluding index and header\n",
    "df.to_csv('MeanMedianMode.csv', index=False, header=False)"
   ]
  },
  {
   "cell_type": "code",
   "execution_count": null,
   "metadata": {},
   "outputs": [],
   "source": []
  },
  {
   "cell_type": "code",
   "execution_count": null,
   "metadata": {},
   "outputs": [],
   "source": []
  },
  {
   "cell_type": "code",
   "execution_count": null,
   "metadata": {},
   "outputs": [],
   "source": []
  },
  {
   "cell_type": "code",
   "execution_count": null,
   "metadata": {},
   "outputs": [],
   "source": []
  },
  {
   "cell_type": "code",
   "execution_count": null,
   "metadata": {},
   "outputs": [],
   "source": []
  },
  {
   "cell_type": "code",
   "execution_count": null,
   "metadata": {},
   "outputs": [],
   "source": []
  }
 ],
 "metadata": {
  "anaconda-cloud": {},
  "kernelspec": {
   "display_name": "Python [default]",
   "language": "python",
   "name": "python3"
  },
  "language_info": {
   "codemirror_mode": {
    "name": "ipython",
    "version": 3
   },
   "file_extension": ".py",
   "mimetype": "text/x-python",
   "name": "python",
   "nbconvert_exporter": "python",
   "pygments_lexer": "ipython3",
   "version": "3.5.5"
  }
 },
 "nbformat": 4,
 "nbformat_minor": 2
}
