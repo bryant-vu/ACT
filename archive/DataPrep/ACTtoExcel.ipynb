{
 "cells": [
  {
   "cell_type": "code",
   "execution_count": 54,
   "metadata": {},
   "outputs": [],
   "source": [
    "import pandas as pd, docx2txt\n",
    "from io import StringIO\n",
    "import os\n",
    "import re"
   ]
  },
  {
   "cell_type": "code",
   "execution_count": 55,
   "metadata": {},
   "outputs": [],
   "source": [
    "#read .docx into jupyter\n",
    "text = docx2txt.process (\"C://Users/Bryant/Documents/GitHub/ACT/archive/DataPrep/ACT Math Sheets_v2_3_9_18/Inequalities.docx\")"
   ]
  },
  {
   "cell_type": "code",
   "execution_count": 56,
   "metadata": {},
   "outputs": [
    {
     "data": {
      "text/plain": [
       "'Inequalities\\n\\n\\n\\nJune 2015\\n\\n2. Which of the following inequalities orders the numbers 0.2, 0.03, and ¼ from least to greatest?\\n\\n0.2 < 0.03 < ¼\\n\\n0.03 < 0.2 < ¼\\n\\n0.03 < ¼ < 0.2\\n\\n¼ < 0.03 < 0.2\\n\\n¼ < 0.2 < 0.03\\n\\n23. Given that x ≤ 4 and x + y ≥  5, what is the LEAST value that y can have?\\n\\n-9\\n\\n-1 \\n\\n0\\n\\n1\\n\\n9\\n\\n29. Which of the following inequalities is equivalent to -2x - 6y > 2y - 4?\\n\\nx < -4y + 2\\n\\nx > -4y + 2\\n\\nx < 2y + 2\\n\\nx < 4y + 2\\n\\nx > 4y + 2\\n\\n55. The shaded portion of the graph in the standard (x, y) coordinate plane below represents the solution set of one of the following systems of linear inequalities. Which one?\\n\\ny ≤ (⅔)x - 6 and y ≥  (-3/2)x + 6\\n\\ny ≥ (⅔)x - 6 and y ≥  (-3/2)x + 6\\n\\ny ≥ (⅔)x - 6 and y ≤  (-3/2)x + 6\\n\\ny ≤ (3/2)x - 6 and y ≥  (-2/3)x + 6\\n\\ny ≥ (3/2)x - 6 and y ≤  (-2/3)x + 6\\n\\n*****picture****\\n\\nDecember 2015\\n\\n52. One of the following inequalities is graphed below in the standard (x,y) coordinate plane. Which one?\\n\\ny ≤ x - 3\\n\\ny ≥ x - 3\\n\\ny ≥ x + 3\\n\\ny ≤ 3x - 3\\n\\ny ≥ 3x – 3\\n\\n\\n\\n*****picture****\\n\\nJune 2016\\n\\n55. When 3 ≤ x ≤ 5 and 7 ≤ y ≤ 9, the smallest possible value for 2/(y - x) is:\\n\\n7/9\\n\\n⅙\\n\\n¼\\n\\n⅓\\n\\n½ \\n\\nApril 2016\\n\\n21. Given that x ≤ 2 and x + y ≥ 4, what is the LEAST value that y can have?\\n\\n-6\\n\\n-2\\n\\n0\\n\\n2\\n\\n6\\n\\nJune 2017\\n\\n12. A new club wants to attract customers who are at least 18 but less than 30 years of age. One of the number lines below illustrates the range of ages, in years, of the customers the club wants to attract. Which number line is it?\\n\\nPicture\\n\\nPicture\\n\\nPicture\\n\\nPicture\\n\\npicture\\n\\n19. Which of the following ordered pairs in the standard (x,y) coordinate plane satisfies the system of inequalities below?      x > 2       y > 0       x + y < 5\\n\\n(1,3)\\n\\n(2,2)\\n\\n(3,1)\\n\\n(3,2)\\n\\n(4,0)\\n\\n56. Each of the following graphs in the standard (x,y) coordinate plane has the same scale on both axes. One graph is the graph of ax + by ≤  c, where ) < a < b < c. Which one is it?\\n\\nPicture\\n\\nPicture\\n\\nPicture\\n\\nPicture\\n\\npicture'"
      ]
     },
     "execution_count": 56,
     "metadata": {},
     "output_type": "execute_result"
    }
   ],
   "source": [
    "text"
   ]
  },
  {
   "cell_type": "markdown",
   "metadata": {},
   "source": [
    "## Clean text. Each question will need the following categories:\n",
    "\n",
    "#### - ID (to be used as a Primary Key in MySQL db)\n",
    "#### - Test Date\n",
    "#### - Question Number\n",
    "#### - Question Statement\n",
    "#### - Answer Choices (one choice for each column, 5 total)\n",
    "#### - Picture (if necessary)"
   ]
  },
  {
   "cell_type": "code",
   "execution_count": 57,
   "metadata": {},
   "outputs": [],
   "source": [
    "#split text into list separated by \\n\\n i.e. 'enter' button\n",
    "text_split = [line for line in StringIO(text).read().split('\\n\\n')]"
   ]
  },
  {
   "cell_type": "code",
   "execution_count": 58,
   "metadata": {},
   "outputs": [],
   "source": [
    "#remove empty entries and spaces\n",
    "try:\n",
    "    text_split.remove('')\n",
    "    text_split.remove(' ')\n",
    "except:\n",
    "    pass"
   ]
  },
  {
   "cell_type": "code",
   "execution_count": 59,
   "metadata": {
    "scrolled": true
   },
   "outputs": [
    {
     "data": {
      "text/plain": [
       "['Inequalities',\n",
       " 'June 2015',\n",
       " '2. Which of the following inequalities orders the numbers 0.2, 0.03, and ¼ from least to greatest?',\n",
       " '0.2 < 0.03 < ¼',\n",
       " '0.03 < 0.2 < ¼',\n",
       " '0.03 < ¼ < 0.2',\n",
       " '¼ < 0.03 < 0.2',\n",
       " '¼ < 0.2 < 0.03',\n",
       " '23. Given that x ≤ 4 and x + y ≥  5, what is the LEAST value that y can have?',\n",
       " '-9',\n",
       " '-1 ',\n",
       " '0',\n",
       " '1',\n",
       " '9',\n",
       " '29. Which of the following inequalities is equivalent to -2x - 6y > 2y - 4?',\n",
       " 'x < -4y + 2',\n",
       " 'x > -4y + 2',\n",
       " 'x < 2y + 2',\n",
       " 'x < 4y + 2',\n",
       " 'x > 4y + 2',\n",
       " '55. The shaded portion of the graph in the standard (x, y) coordinate plane below represents the solution set of one of the following systems of linear inequalities. Which one?',\n",
       " 'y ≤ (⅔)x - 6 and y ≥  (-3/2)x + 6',\n",
       " 'y ≥ (⅔)x - 6 and y ≥  (-3/2)x + 6',\n",
       " 'y ≥ (⅔)x - 6 and y ≤  (-3/2)x + 6',\n",
       " 'y ≤ (3/2)x - 6 and y ≥  (-2/3)x + 6',\n",
       " 'y ≥ (3/2)x - 6 and y ≤  (-2/3)x + 6',\n",
       " '*****picture****',\n",
       " 'December 2015',\n",
       " '52. One of the following inequalities is graphed below in the standard (x,y) coordinate plane. Which one?',\n",
       " 'y ≤ x - 3',\n",
       " 'y ≥ x - 3',\n",
       " 'y ≥ x + 3',\n",
       " 'y ≤ 3x - 3',\n",
       " 'y ≥ 3x – 3',\n",
       " '',\n",
       " '*****picture****',\n",
       " 'June 2016',\n",
       " '55. When 3 ≤ x ≤ 5 and 7 ≤ y ≤ 9, the smallest possible value for 2/(y - x) is:',\n",
       " '7/9',\n",
       " '⅙',\n",
       " '¼',\n",
       " '⅓',\n",
       " '½ ',\n",
       " 'April 2016',\n",
       " '21. Given that x ≤ 2 and x + y ≥ 4, what is the LEAST value that y can have?',\n",
       " '-6',\n",
       " '-2',\n",
       " '0',\n",
       " '2',\n",
       " '6',\n",
       " 'June 2017',\n",
       " '12. A new club wants to attract customers who are at least 18 but less than 30 years of age. One of the number lines below illustrates the range of ages, in years, of the customers the club wants to attract. Which number line is it?',\n",
       " 'Picture',\n",
       " 'Picture',\n",
       " 'Picture',\n",
       " 'Picture',\n",
       " 'picture',\n",
       " '19. Which of the following ordered pairs in the standard (x,y) coordinate plane satisfies the system of inequalities below?      x > 2       y > 0       x + y < 5',\n",
       " '(1,3)',\n",
       " '(2,2)',\n",
       " '(3,1)',\n",
       " '(3,2)',\n",
       " '(4,0)',\n",
       " '56. Each of the following graphs in the standard (x,y) coordinate plane has the same scale on both axes. One graph is the graph of ax + by ≤  c, where ) < a < b < c. Which one is it?',\n",
       " 'Picture',\n",
       " 'Picture',\n",
       " 'Picture',\n",
       " 'Picture',\n",
       " 'picture']"
      ]
     },
     "execution_count": 59,
     "metadata": {},
     "output_type": "execute_result"
    }
   ],
   "source": [
    "text_split"
   ]
  },
  {
   "cell_type": "code",
   "execution_count": 60,
   "metadata": {},
   "outputs": [],
   "source": [
    "#store topic\n",
    "topic = text_split[0]\n",
    "full_list = []\n",
    "new = []\n",
    "for line in text_split[1:]:\n",
    "    #store month and year of test date\n",
    "    if re.search('(^December|June|April|July)', line):\n",
    "        month = re.search('(^December|June|April|July)', line).group()\n",
    "        year = re.search('$2010|2011|2012|2013|2014|2015|2016|2017|2018|2019|2020',line).group()\n",
    "        #continue to next iteration if test date is found\n",
    "        continue\n",
    "        \n",
    "    #look for question number to initiate a new row entry\n",
    "    #len(line) > 10 to avoid finding answers that begin with numbers\n",
    "    if re.search('^..\\.', line) and len(line) > 10:\n",
    "        #append existing list to full_list, then reinitiate 'new' row\n",
    "        if len(new) > 0:\n",
    "            full_list.append(new)\n",
    "            new = []\n",
    "        #append various data for 'new' row entry \n",
    "        num = re.search('^..\\.', line).group().replace(\".\",\"\")\n",
    "        #id column\n",
    "        new.append(month[0:3] + \".\" + year + \".\" + num)\n",
    "        new.append(topic)\n",
    "        new.append(month + \".\" + year)\n",
    "        new.append(num)\n",
    "        #question statement\n",
    "        new.append(line)\n",
    "        continue\n",
    "\n",
    "    #same as previous block with exception re.search looking for single digits\n",
    "    if re.search('^.\\.', line) and len(line) > 10:\n",
    "        if len(new) > 0:\n",
    "            full_list.append(new)\n",
    "            new = []\n",
    "        #store question  number    \n",
    "        num = re.search('^.\\.', line).group().replace(\".\",\"\")\n",
    "        new.append(month[0:3] + \".\" + year + \".\" + num)\n",
    "        new.append(topic)\n",
    "        new.append(month + \".\" + year)\n",
    "        new.append(num)\n",
    "        new.append(line)\n",
    "        continue\n",
    "    #only lines that reach 'else' statement should be answer choices; append to list   \n",
    "    else:\n",
    "        new.append(line)"
   ]
  },
  {
   "cell_type": "code",
   "execution_count": 61,
   "metadata": {
    "scrolled": true
   },
   "outputs": [
    {
     "data": {
      "text/plain": [
       "[['Jun.2015.2',\n",
       "  'Inequalities',\n",
       "  'June.2015',\n",
       "  '2',\n",
       "  '2. Which of the following inequalities orders the numbers 0.2, 0.03, and ¼ from least to greatest?'],\n",
       " ['Jun.2015.0', 'Inequalities', 'June.2015', '0', '0.2 < 0.03 < ¼'],\n",
       " ['Jun.2015.0', 'Inequalities', 'June.2015', '0', '0.03 < 0.2 < ¼'],\n",
       " ['Jun.2015.0',\n",
       "  'Inequalities',\n",
       "  'June.2015',\n",
       "  '0',\n",
       "  '0.03 < ¼ < 0.2',\n",
       "  '¼ < 0.03 < 0.2',\n",
       "  '¼ < 0.2 < 0.03'],\n",
       " ['Jun.2015.23',\n",
       "  'Inequalities',\n",
       "  'June.2015',\n",
       "  '23',\n",
       "  '23. Given that x ≤ 4 and x + y ≥  5, what is the LEAST value that y can have?',\n",
       "  '-9',\n",
       "  '-1 ',\n",
       "  '0',\n",
       "  '1',\n",
       "  '9'],\n",
       " ['Jun.2015.29',\n",
       "  'Inequalities',\n",
       "  'June.2015',\n",
       "  '29',\n",
       "  '29. Which of the following inequalities is equivalent to -2x - 6y > 2y - 4?',\n",
       "  'x < -4y + 2',\n",
       "  'x > -4y + 2',\n",
       "  'x < 2y + 2',\n",
       "  'x < 4y + 2',\n",
       "  'x > 4y + 2'],\n",
       " ['Jun.2015.55',\n",
       "  'Inequalities',\n",
       "  'June.2015',\n",
       "  '55',\n",
       "  '55. The shaded portion of the graph in the standard (x, y) coordinate plane below represents the solution set of one of the following systems of linear inequalities. Which one?',\n",
       "  'y ≤ (⅔)x - 6 and y ≥  (-3/2)x + 6',\n",
       "  'y ≥ (⅔)x - 6 and y ≥  (-3/2)x + 6',\n",
       "  'y ≥ (⅔)x - 6 and y ≤  (-3/2)x + 6',\n",
       "  'y ≤ (3/2)x - 6 and y ≥  (-2/3)x + 6',\n",
       "  'y ≥ (3/2)x - 6 and y ≤  (-2/3)x + 6',\n",
       "  '*****picture****'],\n",
       " ['Dec.2015.52',\n",
       "  'Inequalities',\n",
       "  'December.2015',\n",
       "  '52',\n",
       "  '52. One of the following inequalities is graphed below in the standard (x,y) coordinate plane. Which one?',\n",
       "  'y ≤ x - 3',\n",
       "  'y ≥ x - 3',\n",
       "  'y ≥ x + 3',\n",
       "  'y ≤ 3x - 3',\n",
       "  'y ≥ 3x – 3',\n",
       "  '',\n",
       "  '*****picture****'],\n",
       " ['Jun.2016.55',\n",
       "  'Inequalities',\n",
       "  'June.2016',\n",
       "  '55',\n",
       "  '55. When 3 ≤ x ≤ 5 and 7 ≤ y ≤ 9, the smallest possible value for 2/(y - x) is:',\n",
       "  '7/9',\n",
       "  '⅙',\n",
       "  '¼',\n",
       "  '⅓',\n",
       "  '½ '],\n",
       " ['Apr.2016.21',\n",
       "  'Inequalities',\n",
       "  'April.2016',\n",
       "  '21',\n",
       "  '21. Given that x ≤ 2 and x + y ≥ 4, what is the LEAST value that y can have?',\n",
       "  '-6',\n",
       "  '-2',\n",
       "  '0',\n",
       "  '2',\n",
       "  '6'],\n",
       " ['Jun.2017.12',\n",
       "  'Inequalities',\n",
       "  'June.2017',\n",
       "  '12',\n",
       "  '12. A new club wants to attract customers who are at least 18 but less than 30 years of age. One of the number lines below illustrates the range of ages, in years, of the customers the club wants to attract. Which number line is it?',\n",
       "  'Picture',\n",
       "  'Picture',\n",
       "  'Picture',\n",
       "  'Picture',\n",
       "  'picture'],\n",
       " ['Jun.2017.19',\n",
       "  'Inequalities',\n",
       "  'June.2017',\n",
       "  '19',\n",
       "  '19. Which of the following ordered pairs in the standard (x,y) coordinate plane satisfies the system of inequalities below?      x > 2       y > 0       x + y < 5',\n",
       "  '(1,3)',\n",
       "  '(2,2)',\n",
       "  '(3,1)',\n",
       "  '(3,2)',\n",
       "  '(4,0)']]"
      ]
     },
     "execution_count": 61,
     "metadata": {},
     "output_type": "execute_result"
    }
   ],
   "source": [
    "full_list"
   ]
  },
  {
   "cell_type": "markdown",
   "metadata": {},
   "source": [
    "## ready file for import into MySQL db"
   ]
  },
  {
   "cell_type": "code",
   "execution_count": 62,
   "metadata": {},
   "outputs": [],
   "source": [
    "#prep for import into MySQL db\n",
    "\n",
    "from pandas import DataFrame\n",
    "#convert list to df\n",
    "df = DataFrame.from_records(full_list)\n",
    "#export to .csv excluding index and header\n",
    "df.to_csv('Inequalities.csv', index=False, header=False)"
   ]
  },
  {
   "cell_type": "code",
   "execution_count": null,
   "metadata": {},
   "outputs": [],
   "source": []
  },
  {
   "cell_type": "code",
   "execution_count": null,
   "metadata": {},
   "outputs": [],
   "source": []
  },
  {
   "cell_type": "code",
   "execution_count": null,
   "metadata": {},
   "outputs": [],
   "source": []
  },
  {
   "cell_type": "code",
   "execution_count": null,
   "metadata": {},
   "outputs": [],
   "source": []
  },
  {
   "cell_type": "code",
   "execution_count": null,
   "metadata": {},
   "outputs": [],
   "source": []
  },
  {
   "cell_type": "code",
   "execution_count": null,
   "metadata": {},
   "outputs": [],
   "source": []
  }
 ],
 "metadata": {
  "anaconda-cloud": {},
  "kernelspec": {
   "display_name": "Python [default]",
   "language": "python",
   "name": "python3"
  },
  "language_info": {
   "codemirror_mode": {
    "name": "ipython",
    "version": 3
   },
   "file_extension": ".py",
   "mimetype": "text/x-python",
   "name": "python",
   "nbconvert_exporter": "python",
   "pygments_lexer": "ipython3",
   "version": "3.5.5"
  }
 },
 "nbformat": 4,
 "nbformat_minor": 2
}
