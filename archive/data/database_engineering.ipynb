{
 "cells": [
  {
   "cell_type": "code",
   "execution_count": 94,
   "metadata": {},
   "outputs": [],
   "source": [
    "!rm question.sqlite\n",
    "\n",
    "import pandas as pd\n",
    "import sqlalchemy\n",
    "from sqlalchemy import create_engine\n",
    "from sqlalchemy.ext.declarative import declarative_base \n",
    "from sqlalchemy import Column, Integer, String, Float, Text, Boolean\n",
    "from sqlalchemy.orm import Session\n",
    "\n",
    "\n",
    "import pymysql\n",
    "pymysql.install_as_MySQLdb()"
   ]
  },
  {
   "cell_type": "code",
   "execution_count": 95,
   "metadata": {
    "collapsed": true
   },
   "outputs": [],
   "source": [
    "file = './data/circles.csv'\n",
    "circle_df = pd.read_csv(file)"
   ]
  },
  {
   "cell_type": "code",
   "execution_count": 96,
   "metadata": {},
   "outputs": [
    {
     "data": {
      "text/plain": [
       "['id',\n",
       " 'category',\n",
       " 'test_date',\n",
       " 'statement',\n",
       " 'choice_a',\n",
       " 'choice_b',\n",
       " 'choice_c',\n",
       " 'choice_d']"
      ]
     },
     "execution_count": 96,
     "metadata": {},
     "output_type": "execute_result"
    }
   ],
   "source": [
    "circle_df.columns.tolist()"
   ]
  },
  {
   "cell_type": "code",
   "execution_count": 97,
   "metadata": {},
   "outputs": [
    {
     "data": {
      "text/html": [
       "<div>\n",
       "<style>\n",
       "    .dataframe thead tr:only-child th {\n",
       "        text-align: right;\n",
       "    }\n",
       "\n",
       "    .dataframe thead th {\n",
       "        text-align: left;\n",
       "    }\n",
       "\n",
       "    .dataframe tbody tr th {\n",
       "        vertical-align: top;\n",
       "    }\n",
       "</style>\n",
       "<table border=\"1\" class=\"dataframe\">\n",
       "  <thead>\n",
       "    <tr style=\"text-align: right;\">\n",
       "      <th></th>\n",
       "      <th>id</th>\n",
       "      <th>category</th>\n",
       "      <th>test_date</th>\n",
       "      <th>statement</th>\n",
       "      <th>choice_a</th>\n",
       "      <th>choice_b</th>\n",
       "      <th>choice_c</th>\n",
       "      <th>choice_d</th>\n",
       "    </tr>\n",
       "  </thead>\n",
       "  <tbody>\n",
       "    <tr>\n",
       "      <th>0</th>\n",
       "      <td>1</td>\n",
       "      <td>Circles</td>\n",
       "      <td>April_2015_1</td>\n",
       "      <td>The circle in the standard (x,y) coordinate pl...</td>\n",
       "      <td>Lorem ipsum dolor sit amet, ei eum inani adole...</td>\n",
       "      <td>At meis brute nam, odio quas natum eu vel. Med...</td>\n",
       "      <td>Summo adolescens eum et, vel cu homero labore....</td>\n",
       "      <td>Diceret debitis suavitate id pro, nostrud glor...</td>\n",
       "    </tr>\n",
       "    <tr>\n",
       "      <th>1</th>\n",
       "      <td>2</td>\n",
       "      <td>Circles</td>\n",
       "      <td>April_2015_2</td>\n",
       "      <td>The circle in the standard (x,y) coordinate pl...</td>\n",
       "      <td>Lorem ipsum dolor sit amet, ei eum inani adole...</td>\n",
       "      <td>At meis brute nam, odio quas natum eu vel. Med...</td>\n",
       "      <td>Summo adolescens eum et, vel cu homero labore....</td>\n",
       "      <td>Diceret debitis suavitate id pro, nostrud glor...</td>\n",
       "    </tr>\n",
       "    <tr>\n",
       "      <th>2</th>\n",
       "      <td>3</td>\n",
       "      <td>Circles</td>\n",
       "      <td>April_2015_3</td>\n",
       "      <td>Points O(0,0) and B(0,3) below lie in the stan...</td>\n",
       "      <td>Lorem ipsum dolor sit amet, ei eum inani adole...</td>\n",
       "      <td>At meis brute nam, odio quas natum eu vel. Med...</td>\n",
       "      <td>Summo adolescens eum et, vel cu homero labore....</td>\n",
       "      <td>Diceret debitis suavitate id pro, nostrud glor...</td>\n",
       "    </tr>\n",
       "    <tr>\n",
       "      <th>3</th>\n",
       "      <td>4</td>\n",
       "      <td>Circles</td>\n",
       "      <td>June_2015_4</td>\n",
       "      <td>The circle shown below has below has diameter ...</td>\n",
       "      <td>Lorem ipsum dolor sit amet, ei eum inani adole...</td>\n",
       "      <td>At meis brute nam, odio quas natum eu vel. Med...</td>\n",
       "      <td>Summo adolescens eum et, vel cu homero labore....</td>\n",
       "      <td>Diceret debitis suavitate id pro, nostrud glor...</td>\n",
       "    </tr>\n",
       "    <tr>\n",
       "      <th>4</th>\n",
       "      <td>5</td>\n",
       "      <td>Circles</td>\n",
       "      <td>June_2015_5</td>\n",
       "      <td>Graphed in the same standard (x,y) coordinate ...</td>\n",
       "      <td>Lorem ipsum dolor sit amet, ei eum inani adole...</td>\n",
       "      <td>At meis brute nam, odio quas natum eu vel. Med...</td>\n",
       "      <td>Summo adolescens eum et, vel cu homero labore....</td>\n",
       "      <td>Diceret debitis suavitate id pro, nostrud glor...</td>\n",
       "    </tr>\n",
       "  </tbody>\n",
       "</table>\n",
       "</div>"
      ],
      "text/plain": [
       "   id category     test_date  \\\n",
       "0   1  Circles  April_2015_1   \n",
       "1   2  Circles  April_2015_2   \n",
       "2   3  Circles  April_2015_3   \n",
       "3   4  Circles   June_2015_4   \n",
       "4   5  Circles   June_2015_5   \n",
       "\n",
       "                                           statement  \\\n",
       "0  The circle in the standard (x,y) coordinate pl...   \n",
       "1  The circle in the standard (x,y) coordinate pl...   \n",
       "2  Points O(0,0) and B(0,3) below lie in the stan...   \n",
       "3  The circle shown below has below has diameter ...   \n",
       "4  Graphed in the same standard (x,y) coordinate ...   \n",
       "\n",
       "                                            choice_a  \\\n",
       "0  Lorem ipsum dolor sit amet, ei eum inani adole...   \n",
       "1  Lorem ipsum dolor sit amet, ei eum inani adole...   \n",
       "2  Lorem ipsum dolor sit amet, ei eum inani adole...   \n",
       "3  Lorem ipsum dolor sit amet, ei eum inani adole...   \n",
       "4  Lorem ipsum dolor sit amet, ei eum inani adole...   \n",
       "\n",
       "                                            choice_b  \\\n",
       "0  At meis brute nam, odio quas natum eu vel. Med...   \n",
       "1  At meis brute nam, odio quas natum eu vel. Med...   \n",
       "2  At meis brute nam, odio quas natum eu vel. Med...   \n",
       "3  At meis brute nam, odio quas natum eu vel. Med...   \n",
       "4  At meis brute nam, odio quas natum eu vel. Med...   \n",
       "\n",
       "                                            choice_c  \\\n",
       "0  Summo adolescens eum et, vel cu homero labore....   \n",
       "1  Summo adolescens eum et, vel cu homero labore....   \n",
       "2  Summo adolescens eum et, vel cu homero labore....   \n",
       "3  Summo adolescens eum et, vel cu homero labore....   \n",
       "4  Summo adolescens eum et, vel cu homero labore....   \n",
       "\n",
       "                                            choice_d  \n",
       "0  Diceret debitis suavitate id pro, nostrud glor...  \n",
       "1  Diceret debitis suavitate id pro, nostrud glor...  \n",
       "2  Diceret debitis suavitate id pro, nostrud glor...  \n",
       "3  Diceret debitis suavitate id pro, nostrud glor...  \n",
       "4  Diceret debitis suavitate id pro, nostrud glor...  "
      ]
     },
     "execution_count": 97,
     "metadata": {},
     "output_type": "execute_result"
    }
   ],
   "source": [
    "circle_df.head()"
   ]
  },
  {
   "cell_type": "code",
   "execution_count": 98,
   "metadata": {
    "collapsed": true
   },
   "outputs": [],
   "source": [
    "engine = create_engine(\"sqlite:///question.sqlite\")\n",
    "conn = engine.connect()\n",
    "Base = declarative_base()"
   ]
  },
  {
   "cell_type": "code",
   "execution_count": 99,
   "metadata": {},
   "outputs": [],
   "source": [
    "class Questions(Base):\n",
    "    __tablename__ = \"circle\"\n",
    "    id = Column(Integer, primary_key = True)\n",
    "    category = Column(String(255))\n",
    "    test_date = Column(String(255))\n",
    "    statement = Column(String(255))\n",
    "    choice_a = Column(String(255))\n",
    "    choice_b = Column(String(255))\n",
    "    choice_c = Column(String(255))\n",
    "    choice_d = Column(String(255))"
   ]
  },
  {
   "cell_type": "code",
   "execution_count": 100,
   "metadata": {
    "collapsed": true
   },
   "outputs": [],
   "source": [
    "circle_dict = circle_df.to_dict(orient='records')"
   ]
  },
  {
   "cell_type": "code",
   "execution_count": 101,
   "metadata": {},
   "outputs": [
    {
     "name": "stderr",
     "output_type": "stream",
     "text": [
      "/Users/gta/anaconda3/lib/python3.6/site-packages/ipykernel_launcher.py:2: SADeprecationWarning: reflect=True is deprecate; please use the reflect() method.\n",
      "  \n"
     ]
    },
    {
     "data": {
      "text/plain": [
       "<sqlalchemy.engine.result.ResultProxy at 0x116050c18>"
      ]
     },
     "execution_count": 101,
     "metadata": {},
     "output_type": "execute_result"
    }
   ],
   "source": [
    "Base.metadata.create_all(engine)\n",
    "metadata = sqlalchemy.schema.MetaData(bind=engine,reflect=True)\n",
    "\n",
    "table = sqlalchemy.Table('circle', metadata, autoload=True)\n",
    "conn.execute(table.delete())\n",
    "conn.execute(table.insert(), circle_dict)\n"
   ]
  },
  {
   "cell_type": "code",
   "execution_count": 102,
   "metadata": {},
   "outputs": [
    {
     "data": {
      "text/plain": [
       "[(1, 'Circles', 'April_2015_1', 'The circle in the standard (x,y) coordinate plane below has center (-8.5, 7.5) and has radius 5 coordinate units.', 'Lorem ipsum dolor sit amet, ei eum inani adolescens temporibus, omnesque voluptatibus mediocritatem nec te. ', 'At meis brute nam, odio quas natum eu vel. Mediocrem partiendo id cum, epicuri blandit ut eum. ', 'Summo adolescens eum et, vel cu homero labore. Pri reprehendunt signiferumque an. In sea case perpetua.', 'Diceret debitis suavitate id pro, nostrud gloriatur mel at. '),\n",
       " (2, 'Circles', 'April_2015_2', 'The circle in the standard (x,y) coordinate plane below has center (-8.5, 7.5) and has radius 5 coordinate units.', 'Lorem ipsum dolor sit amet, ei eum inani adolescens temporibus, omnesque voluptatibus mediocritatem nec te. ', 'At meis brute nam, odio quas natum eu vel. Mediocrem partiendo id cum, epicuri blandit ut eum. ', 'Summo adolescens eum et, vel cu homero labore. Pri reprehendunt signiferumque an. In sea case perpetua.', 'Diceret debitis suavitate id pro, nostrud gloriatur mel at. ')]"
      ]
     },
     "execution_count": 102,
     "metadata": {},
     "output_type": "execute_result"
    }
   ],
   "source": [
    "conn.execute(\"SELECT * FROM circle LIMIT 2\").fetchall()"
   ]
  },
  {
   "cell_type": "code",
   "execution_count": 112,
   "metadata": {},
   "outputs": [],
   "source": [
    "from sqlalchemy import create_engine\n",
    "from sqlalchemy.ext.declarative import declarative_base\n",
    "from sqlalchemy.orm import scoped_session, sessionmaker, Query\n",
    "import json\n",
    "\n",
    "engine = create_engine('sqlite:///data/question.sqlite', convert_unicode=True, echo=False)\n",
    "Base = declarative_base()\n",
    "Base.metadata.reflect(engine)\n",
    "\n",
    "\n",
    "class Questions(Base):\n",
    "    __table__ = Base.metadata.tables['circle']\n",
    "\n",
    "\n",
    "session = scoped_session(sessionmaker(bind=engine))\n",
    "\n",
    "\n",
    "def questions(input_data):\n",
    "\n",
    "    questionReturn = session.query(Questions.statement,\n",
    "                                   Questions.test_date,\n",
    "                                   Questions.choice_a,\n",
    "                                   Questions.choice_b,\n",
    "                                   Questions.choice_c,\n",
    "                                   Questions.choice_d).filter(Questions.test_date == input_data)\n",
    "    \n",
    "    dataDict = [{'Question': each[0],\n",
    "                 'Test_Date': each[1],\n",
    "                 'Answer_1': each[2],\n",
    "                 'Answer_2': each[3],\n",
    "                 'Answer_3': each[4],\n",
    "                 'Answer_5': each[5]\n",
    "                } for each in questionReturn]\n",
    "\n",
    "    return dataDict"
   ]
  },
  {
   "cell_type": "code",
   "execution_count": 113,
   "metadata": {},
   "outputs": [
    {
     "data": {
      "text/plain": [
       "'The circle in the standard (x,y) coordinate plane below has center (-8.5, 7.5) and has radius 5 coordinate units.'"
      ]
     },
     "execution_count": 113,
     "metadata": {},
     "output_type": "execute_result"
    }
   ],
   "source": [
    "questions('April_2015_1')[0]['Question']"
   ]
  },
  {
   "cell_type": "code",
   "execution_count": null,
   "metadata": {},
   "outputs": [],
   "source": []
  },
  {
   "cell_type": "code",
   "execution_count": null,
   "metadata": {},
   "outputs": [],
   "source": []
  },
  {
   "cell_type": "code",
   "execution_count": null,
   "metadata": {
    "collapsed": true
   },
   "outputs": [],
   "source": []
  },
  {
   "cell_type": "code",
   "execution_count": null,
   "metadata": {
    "collapsed": true
   },
   "outputs": [],
   "source": []
  }
 ],
 "metadata": {
  "anaconda-cloud": {},
  "kernelspec": {
   "display_name": "Python [default]",
   "language": "python",
   "name": "python3"
  },
  "language_info": {
   "codemirror_mode": {
    "name": "ipython",
    "version": 3
   },
   "file_extension": ".py",
   "mimetype": "text/x-python",
   "name": "python",
   "nbconvert_exporter": "python",
   "pygments_lexer": "ipython3",
   "version": "3.5.5"
  }
 },
 "nbformat": 4,
 "nbformat_minor": 2
}
