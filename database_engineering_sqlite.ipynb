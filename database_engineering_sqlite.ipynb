{
 "cells": [
  {
   "cell_type": "code",
   "execution_count": 9,
   "metadata": {},
   "outputs": [
    {
     "name": "stderr",
     "output_type": "stream",
     "text": [
      "'rm' is not recognized as an internal or external command,\n",
      "operable program or batch file.\n"
     ]
    }
   ],
   "source": [
    "!rm question.sqlite\n",
    "\n",
    "import pandas as pd\n",
    "import sqlalchemy\n",
    "from sqlalchemy import create_engine\n",
    "from sqlalchemy.ext.declarative import declarative_base \n",
    "from sqlalchemy import Column, Integer, String, Float, Text, Boolean\n",
    "from sqlalchemy.orm import Session\n",
    "\n",
    "\n",
    "import pymysql\n",
    "pymysql.install_as_MySQLdb()"
   ]
  },
  {
   "cell_type": "code",
   "execution_count": 10,
   "metadata": {},
   "outputs": [],
   "source": [
    "file = './data/db.csv'\n",
    "db_df = pd.read_csv(file)"
   ]
  },
  {
   "cell_type": "code",
   "execution_count": 11,
   "metadata": {},
   "outputs": [
    {
     "data": {
      "text/plain": [
       "['id',\n",
       " 'topic',\n",
       " 'date',\n",
       " 'qNum',\n",
       " 'qStatement',\n",
       " 'a1',\n",
       " 'a2',\n",
       " 'a3',\n",
       " 'a4',\n",
       " 'a5',\n",
       " 'pic']"
      ]
     },
     "execution_count": 11,
     "metadata": {},
     "output_type": "execute_result"
    }
   ],
   "source": [
    "db_df.columns.tolist()"
   ]
  },
  {
   "cell_type": "code",
   "execution_count": 12,
   "metadata": {},
   "outputs": [
    {
     "data": {
      "text/html": [
       "<div>\n",
       "<style scoped>\n",
       "    .dataframe tbody tr th:only-of-type {\n",
       "        vertical-align: middle;\n",
       "    }\n",
       "\n",
       "    .dataframe tbody tr th {\n",
       "        vertical-align: top;\n",
       "    }\n",
       "\n",
       "    .dataframe thead th {\n",
       "        text-align: right;\n",
       "    }\n",
       "</style>\n",
       "<table border=\"1\" class=\"dataframe\">\n",
       "  <thead>\n",
       "    <tr style=\"text-align: right;\">\n",
       "      <th></th>\n",
       "      <th>id</th>\n",
       "      <th>topic</th>\n",
       "      <th>date</th>\n",
       "      <th>qNum</th>\n",
       "      <th>qStatement</th>\n",
       "      <th>a1</th>\n",
       "      <th>a2</th>\n",
       "      <th>a3</th>\n",
       "      <th>a4</th>\n",
       "      <th>a5</th>\n",
       "      <th>pic</th>\n",
       "    </tr>\n",
       "  </thead>\n",
       "  <tbody>\n",
       "    <tr>\n",
       "      <th>0</th>\n",
       "      <td>Apr.2015.1</td>\n",
       "      <td>Absolute Values</td>\n",
       "      <td>April.2015</td>\n",
       "      <td>1</td>\n",
       "      <td>1. |3(-2) + 4| = ?</td>\n",
       "      <td>-2</td>\n",
       "      <td>2</td>\n",
       "      <td>5</td>\n",
       "      <td>9</td>\n",
       "      <td>10</td>\n",
       "      <td>NaN</td>\n",
       "    </tr>\n",
       "    <tr>\n",
       "      <th>1</th>\n",
       "      <td>Dec.2015.40</td>\n",
       "      <td>Absolute Values</td>\n",
       "      <td>December.2015</td>\n",
       "      <td>40</td>\n",
       "      <td>40. What is the set of real solutions for |x|2...</td>\n",
       "      <td>{2}</td>\n",
       "      <td>{-2, 2}</td>\n",
       "      <td>{-1, 2}</td>\n",
       "      <td>{1, 2}</td>\n",
       "      <td>{-2, -1, 1, 2}</td>\n",
       "      <td>NaN</td>\n",
       "    </tr>\n",
       "    <tr>\n",
       "      <th>2</th>\n",
       "      <td>Jun.2016.15</td>\n",
       "      <td>Absolute Values</td>\n",
       "      <td>June.2016</td>\n",
       "      <td>15</td>\n",
       "      <td>15. |6(-7) + 4(8)| = ?</td>\n",
       "      <td>-144</td>\n",
       "      <td>-10</td>\n",
       "      <td>10</td>\n",
       "      <td>74</td>\n",
       "      <td>144</td>\n",
       "      <td>NaN</td>\n",
       "    </tr>\n",
       "    <tr>\n",
       "      <th>3</th>\n",
       "      <td>Jun.2016.54</td>\n",
       "      <td>Absolute Values</td>\n",
       "      <td>June.2016</td>\n",
       "      <td>54</td>\n",
       "      <td>54. The graphs of the functions y = f(x) = (x ...</td>\n",
       "      <td>|f(x)| = f(x)</td>\n",
       "      <td>|g(x)| = g(x)</td>\n",
       "      <td>f(3) = g(3)</td>\n",
       "      <td>f(3 ½ ) = g(3 ½ )</td>\n",
       "      <td>f(g(1)) = 6</td>\n",
       "      <td>*******picture******</td>\n",
       "    </tr>\n",
       "    <tr>\n",
       "      <th>4</th>\n",
       "      <td>Apr.2016.1</td>\n",
       "      <td>Absolute Values</td>\n",
       "      <td>April.2016</td>\n",
       "      <td>1</td>\n",
       "      <td>1. What is |5 - x| when x=9?</td>\n",
       "      <td>-14</td>\n",
       "      <td>-4</td>\n",
       "      <td>4</td>\n",
       "      <td>9</td>\n",
       "      <td>14</td>\n",
       "      <td>NaN</td>\n",
       "    </tr>\n",
       "  </tbody>\n",
       "</table>\n",
       "</div>"
      ],
      "text/plain": [
       "            id            topic           date qNum  \\\n",
       "0   Apr.2015.1  Absolute Values     April.2015    1   \n",
       "1  Dec.2015.40  Absolute Values  December.2015   40   \n",
       "2  Jun.2016.15  Absolute Values      June.2016   15   \n",
       "3  Jun.2016.54  Absolute Values      June.2016   54   \n",
       "4   Apr.2016.1  Absolute Values     April.2016    1   \n",
       "\n",
       "                                          qStatement             a1  \\\n",
       "0                                 1. |3(-2) + 4| = ?             -2   \n",
       "1  40. What is the set of real solutions for |x|2...            {2}   \n",
       "2                             15. |6(-7) + 4(8)| = ?           -144   \n",
       "3  54. The graphs of the functions y = f(x) = (x ...  |f(x)| = f(x)   \n",
       "4                       1. What is |5 - x| when x=9?            -14   \n",
       "\n",
       "              a2           a3                 a4              a5  \\\n",
       "0              2            5                  9              10   \n",
       "1        {-2, 2}      {-1, 2}             {1, 2}  {-2, -1, 1, 2}   \n",
       "2            -10           10                 74             144   \n",
       "3  |g(x)| = g(x)  f(3) = g(3)  f(3 ½ ) = g(3 ½ )     f(g(1)) = 6   \n",
       "4             -4            4                  9              14   \n",
       "\n",
       "                    pic  \n",
       "0                   NaN  \n",
       "1                   NaN  \n",
       "2                   NaN  \n",
       "3  *******picture******  \n",
       "4                   NaN  "
      ]
     },
     "execution_count": 12,
     "metadata": {},
     "output_type": "execute_result"
    }
   ],
   "source": [
    "db_df.head()"
   ]
  },
  {
   "cell_type": "code",
   "execution_count": 13,
   "metadata": {},
   "outputs": [],
   "source": [
    "engine = create_engine(\"sqlite:///db.sqlite\")\n",
    "conn = engine.connect()\n",
    "Base = declarative_base()"
   ]
  },
  {
   "cell_type": "code",
   "execution_count": 14,
   "metadata": {},
   "outputs": [],
   "source": [
    "class Questions(Base):\n",
    "    __tablename__ = \"math\"\n",
    "    id = Column(String(255), primary_key = True)\n",
    "    topic = Column(String(255))\n",
    "    date = Column(String(50))\n",
    "    qNum = Column(String(10))\n",
    "    qStatement = Column(String(1500))\n",
    "    a1 = Column(String(255))\n",
    "    a2 = Column(String(255))\n",
    "    a3 = Column(String(255))\n",
    "    a4 = Column(String(255))\n",
    "    a5 = Column(String(255))\n",
    "    pic = Column(String(50))           "
   ]
  },
  {
   "cell_type": "code",
   "execution_count": 15,
   "metadata": {},
   "outputs": [],
   "source": [
    "db_dict = db_df.to_dict(orient='records')"
   ]
  },
  {
   "cell_type": "code",
   "execution_count": 16,
   "metadata": {},
   "outputs": [
    {
     "name": "stderr",
     "output_type": "stream",
     "text": [
      "C:\\Users\\Bryant\\Anaconda3\\lib\\site-packages\\ipykernel\\__main__.py:2: SADeprecationWarning: reflect=True is deprecate; please use the reflect() method.\n",
      "  from ipykernel import kernelapp as app\n"
     ]
    },
    {
     "data": {
      "text/plain": [
       "<sqlalchemy.engine.result.ResultProxy at 0x2a9aabe6a90>"
      ]
     },
     "execution_count": 16,
     "metadata": {},
     "output_type": "execute_result"
    }
   ],
   "source": [
    "Base.metadata.create_all(engine)\n",
    "metadata = sqlalchemy.schema.MetaData(bind=engine,reflect=True)\n",
    "\n",
    "table = sqlalchemy.Table('math', metadata, autoload=True)\n",
    "conn.execute(table.delete())\n",
    "conn.execute(table.insert(), db_dict)\n"
   ]
  },
  {
   "cell_type": "code",
   "execution_count": 102,
   "metadata": {},
   "outputs": [
    {
     "data": {
      "text/plain": [
       "[(1, 'Circles', 'April_2015_1', 'The circle in the standard (x,y) coordinate plane below has center (-8.5, 7.5) and has radius 5 coordinate units.', 'Lorem ipsum dolor sit amet, ei eum inani adolescens temporibus, omnesque voluptatibus mediocritatem nec te. ', 'At meis brute nam, odio quas natum eu vel. Mediocrem partiendo id cum, epicuri blandit ut eum. ', 'Summo adolescens eum et, vel cu homero labore. Pri reprehendunt signiferumque an. In sea case perpetua.', 'Diceret debitis suavitate id pro, nostrud gloriatur mel at. '),\n",
       " (2, 'Circles', 'April_2015_2', 'The circle in the standard (x,y) coordinate plane below has center (-8.5, 7.5) and has radius 5 coordinate units.', 'Lorem ipsum dolor sit amet, ei eum inani adolescens temporibus, omnesque voluptatibus mediocritatem nec te. ', 'At meis brute nam, odio quas natum eu vel. Mediocrem partiendo id cum, epicuri blandit ut eum. ', 'Summo adolescens eum et, vel cu homero labore. Pri reprehendunt signiferumque an. In sea case perpetua.', 'Diceret debitis suavitate id pro, nostrud gloriatur mel at. ')]"
      ]
     },
     "execution_count": 102,
     "metadata": {},
     "output_type": "execute_result"
    }
   ],
   "source": [
    "conn.execute(\"SELECT * FROM circle LIMIT 2\").fetchall()"
   ]
  },
  {
   "cell_type": "code",
   "execution_count": 112,
   "metadata": {},
   "outputs": [],
   "source": [
    "from sqlalchemy import create_engine\n",
    "from sqlalchemy.ext.declarative import declarative_base\n",
    "from sqlalchemy.orm import scoped_session, sessionmaker, Query\n",
    "import json\n",
    "\n",
    "engine = create_engine('sqlite:///data/question.sqlite', convert_unicode=True, echo=False)\n",
    "Base = declarative_base()\n",
    "Base.metadata.reflect(engine)\n",
    "\n",
    "\n",
    "class Questions(Base):\n",
    "    __table__ = Base.metadata.tables['circle']\n",
    "\n",
    "\n",
    "session = scoped_session(sessionmaker(bind=engine))\n",
    "\n",
    "\n",
    "def questions(input_data):\n",
    "\n",
    "    questionReturn = session.query(Questions.statement,\n",
    "                                   Questions.test_date,\n",
    "                                   Questions.choice_a,\n",
    "                                   Questions.choice_b,\n",
    "                                   Questions.choice_c,\n",
    "                                   Questions.choice_d).filter(Questions.test_date == input_data)\n",
    "    \n",
    "    dataDict = [{'Question': each[0],\n",
    "                 'Test_Date': each[1],\n",
    "                 'Answer_1': each[2],\n",
    "                 'Answer_2': each[3],\n",
    "                 'Answer_3': each[4],\n",
    "                 'Answer_5': each[5]\n",
    "                } for each in questionReturn]\n",
    "\n",
    "    return dataDict"
   ]
  },
  {
   "cell_type": "code",
   "execution_count": 113,
   "metadata": {},
   "outputs": [
    {
     "data": {
      "text/plain": [
       "'The circle in the standard (x,y) coordinate plane below has center (-8.5, 7.5) and has radius 5 coordinate units.'"
      ]
     },
     "execution_count": 113,
     "metadata": {},
     "output_type": "execute_result"
    }
   ],
   "source": [
    "questions('April_2015_1')[0]['Question']"
   ]
  },
  {
   "cell_type": "code",
   "execution_count": null,
   "metadata": {},
   "outputs": [],
   "source": []
  },
  {
   "cell_type": "code",
   "execution_count": null,
   "metadata": {},
   "outputs": [],
   "source": []
  },
  {
   "cell_type": "code",
   "execution_count": null,
   "metadata": {
    "collapsed": true
   },
   "outputs": [],
   "source": []
  },
  {
   "cell_type": "code",
   "execution_count": null,
   "metadata": {
    "collapsed": true
   },
   "outputs": [],
   "source": []
  }
 ],
 "metadata": {
  "anaconda-cloud": {},
  "kernelspec": {
   "display_name": "Python [default]",
   "language": "python",
   "name": "python3"
  },
  "language_info": {
   "codemirror_mode": {
    "name": "ipython",
    "version": 3
   },
   "file_extension": ".py",
   "mimetype": "text/x-python",
   "name": "python",
   "nbconvert_exporter": "python",
   "pygments_lexer": "ipython3",
   "version": "3.5.5"
  }
 },
 "nbformat": 4,
 "nbformat_minor": 2
}
