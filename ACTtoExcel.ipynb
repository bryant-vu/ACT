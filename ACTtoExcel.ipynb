{
 "cells": [
  {
   "cell_type": "code",
   "execution_count": 336,
   "metadata": {},
   "outputs": [],
   "source": [
    "import pandas as pd, docx2txt\n",
    "from io import StringIO\n",
    "import os\n",
    "import re"
   ]
  },
  {
   "cell_type": "code",
   "execution_count": 337,
   "metadata": {},
   "outputs": [],
   "source": [
    "text = docx2txt.process (\"C://Users/Bryant/Documents/GitHub/ACT/ACT Math Sheets_v2_3_9_18/Circles.docx\")"
   ]
  },
  {
   "cell_type": "code",
   "execution_count": 338,
   "metadata": {},
   "outputs": [
    {
     "data": {
      "text/plain": [
       "'Circles\\n\\nApril 2015\\n\\n30. The circle in the standard (x,y) coordinate plane below has center (-8.5, 7.5) and has radius 5 coordinate units.\\n\\nWhich of the following is an equation of this circle? \\n\\n(x - 8.5)2 + (y + 7.5)2 = 10\\n\\n(x + 8.5)2 + (y - 7.5)2 = 10\\n\\n(x - 8.5)2 + (y + 7.5)2 = 25\\n\\n(x + 8.5)2 + (y - 7.5)2 = 25\\n\\n(x + 8.5)2 + (y + 7.5)2 = 25\\n\\n[PICTURE]\\n\\n31. The circle in the standard (x,y) coordinate plane below has center (-8.5, 7.5) and has radius 5 coordinate units.\\n\\n \\n\\nWhat is the area, in square coordinate units, of this circle?\\n\\n(5/2)π\\n\\n(25/2)π\\n\\n10π\\n\\n25π\\n\\n100π\\n\\n[PICTURE]\\n\\n44. Points O(0,0) and B(0,3) below lie in the standard (x,y) coordinate plane. The collection of all points such that each is twice as far from B as from O forms a circle. The point (rad3, 0) is 1 point on the circle. What are the coordinates of the center of that circle?\\n\\n ( (rad3)/2 , 3/2)\\n\\n(0, 3/2)\\n\\n(0, 1)\\n\\n(0, -1)\\n\\n(0, -3)\\n\\n****picture****\\n\\nJune 2015\\n\\n\\n\\n24. The circle shown below has below has diameter (line)AD, and points B and C lie on the circle. The measure of (angle)CAD is 30°, and the measure of minor arc (arc)CD is 60°. What is the measure of minor arc (arc)AC? \\n\\n75°\\n\\n90°\\n\\n105°\\n\\n120°\\n\\n150°\\n\\n[PICTURE]\\n\\n27. Graphed in the same standard (x,y) coordinate plane are a circle and a parabola. The circle has radius 3 and center (0, 0). The parabola has vertex (-3, -2), has a vertical axis of symmetry, and passes through (-2, -1). The circle and the parabola intersect at how many points?\\n\\n0\\n\\n1\\n\\n2\\n\\n3\\n\\n4\\n\\n\\n\\n35. In the figure shown below, ABCD is a rectangle, EFGH is a square, and (line)CD is the diameter of a semicircle. Points K is the midpoint of (line)CD. Point J is the midpoint of both (line)AB and (line)EF. Points E and F lie on (line)AB. The 3 given lengths are in meters. \\n\\n\\n\\nWhat is the length, in meters, of arc (arc)CD?\\n\\n2.5π\\n\\n5π\\n\\n6.25π\\n\\n10π\\n\\n25π\\n\\n[PICTURE]\\n\\n58. In the circle with center D shown below, the length of radius (line)CD is 4 cm, the length of (line)BC is 1 cm, and (line)BC is perpendicular to radius (line)AD at B. When (Angle)ADC is measured in degrees, which of the following expressions represents the length, in centimeters of (arc)AC?\\n\\n (π/45)(sin-1(¼))\\n\\n(π/45)(cos-1(¼))\\n\\n(2π/45)(sin-1(¼))\\n\\n(2π/45)(cos-1(¼))\\n\\n(2π/45)(tan-1(¼))\\n\\n******picture*****\\n\\n\\n\\nDecember 2015\\n\\n8. The circular spinner dial for a new board game is divided into 6 congruent sectors. What is the arc measure, in degrees, of each sector?\\n\\n30°\\n\\n36°\\n\\n45°\\n\\n60°\\n\\n72°\\n\\n26. The diameter of a circle is 6 feet. What is the area, in square feet, of the circle?\\n\\n3π\\n\\n6π\\n\\n9π\\n\\n36π\\n\\n144π\\n\\n38. In standard (x,y) coordinate plane below, a circle has a radius of r coordinate units and passes through the origin, O. The circle has diameter (line)OS, where S lies on the negative y-axis. In terms of r, what are the coordinates of S?\\n\\n (0, -2πr)\\n\\n(0, -2r)\\n\\n(0, -r)\\n\\n(0, -0.5r)\\n\\n(0, r)\\n\\n****picture***\\n\\n\\n\\nJune 2016\\n\\n33. The circumference of a circle is 20cm. What is the length, in centimeters, of the radius of the circle?\\n\\nπ\\n\\n10/π\\n\\n20/π \\n\\n20\\n\\n20π\\n\\nDecember 2016\\n\\n47. A circle with radius 10 cm is divided into 3 congruent arcs. What is the length, in centimeters, of each of the 3 arcs?\\n\\n(10π)/3\\n\\n(20π)/3\\n\\n10π\\n\\n(40π)/3\\n\\n20π\\n\\n\\n\\n60. The circle with equation x2 + (y - 1)2 = 1 is graphed in the standard (x,y) coordinate plane below. Suppose the circle rolls along the positive x-axis for 2 rotations and then stops. Which of the following is an equation of the circle in its new position?\\n\\n (x + 2)2 + (y - 1)2 = 1\\n\\n(x + 2π)2 + (y - 1)2 = 1\\n\\n(x + 4π)2 + (y - 1)2 = 1\\n\\n(x - 2π)2 + (y - 1)2 = 1\\n\\n(x - 4π)2 + (y - 1)2 = 1\\n\\n****picture****\\n\\n\\n\\nJune 2017\\n\\n52. In the standard (x,y) coordinate plane, the circle centered at (1,3) that passes through (4,7) is the set of all points are:\\n\\n5 coordinate units from (1,3).\\n\\n5 coordinate units from both (1,3) and (4,7).\\n\\n5 coordinate units from the line segment with endpoints (1,3) and (4,7).\\n\\nEquidistant from (1,3) and (4,7).\\n\\nEquidistant from the line segment with endpoints (1,3) and (4,7).'"
      ]
     },
     "execution_count": 338,
     "metadata": {},
     "output_type": "execute_result"
    }
   ],
   "source": [
    "text"
   ]
  },
  {
   "cell_type": "code",
   "execution_count": 339,
   "metadata": {},
   "outputs": [],
   "source": [
    "text_split = [line.split('\\n') for line in StringIO(text).read().split('\\n\\n')]"
   ]
  },
  {
   "cell_type": "code",
   "execution_count": 340,
   "metadata": {
    "scrolled": true
   },
   "outputs": [],
   "source": [
    "text_split = [item for items in text_split for item in items]"
   ]
  },
  {
   "cell_type": "code",
   "execution_count": 341,
   "metadata": {},
   "outputs": [],
   "source": [
    "try:\n",
    "    text_split.remove('')\n",
    "    text_split.remove(' ')\n",
    "except:\n",
    "    pass"
   ]
  },
  {
   "cell_type": "code",
   "execution_count": 342,
   "metadata": {},
   "outputs": [
    {
     "data": {
      "text/plain": [
       "['Circles',\n",
       " 'April 2015',\n",
       " '30. The circle in the standard (x,y) coordinate plane below has center (-8.5, 7.5) and has radius 5 coordinate units.',\n",
       " 'Which of the following is an equation of this circle? ',\n",
       " '(x - 8.5)2 + (y + 7.5)2 = 10',\n",
       " '(x + 8.5)2 + (y - 7.5)2 = 10',\n",
       " '(x - 8.5)2 + (y + 7.5)2 = 25',\n",
       " '(x + 8.5)2 + (y - 7.5)2 = 25',\n",
       " '(x + 8.5)2 + (y + 7.5)2 = 25',\n",
       " '[PICTURE]',\n",
       " '31. The circle in the standard (x,y) coordinate plane below has center (-8.5, 7.5) and has radius 5 coordinate units.',\n",
       " 'What is the area, in square coordinate units, of this circle?',\n",
       " '(5/2)π',\n",
       " '(25/2)π',\n",
       " '10π',\n",
       " '25π',\n",
       " '100π',\n",
       " '[PICTURE]',\n",
       " '44. Points O(0,0) and B(0,3) below lie in the standard (x,y) coordinate plane. The collection of all points such that each is twice as far from B as from O forms a circle. The point (rad3, 0) is 1 point on the circle. What are the coordinates of the center of that circle?',\n",
       " ' ( (rad3)/2 , 3/2)',\n",
       " '(0, 3/2)',\n",
       " '(0, 1)',\n",
       " '(0, -1)',\n",
       " '(0, -3)',\n",
       " '****picture****',\n",
       " 'June 2015',\n",
       " '24. The circle shown below has below has diameter (line)AD, and points B and C lie on the circle. The measure of (angle)CAD is 30°, and the measure of minor arc (arc)CD is 60°. What is the measure of minor arc (arc)AC? ',\n",
       " '75°',\n",
       " '90°',\n",
       " '105°',\n",
       " '120°',\n",
       " '150°',\n",
       " '[PICTURE]',\n",
       " '27. Graphed in the same standard (x,y) coordinate plane are a circle and a parabola. The circle has radius 3 and center (0, 0). The parabola has vertex (-3, -2), has a vertical axis of symmetry, and passes through (-2, -1). The circle and the parabola intersect at how many points?',\n",
       " '0',\n",
       " '1',\n",
       " '2',\n",
       " '3',\n",
       " '4',\n",
       " '',\n",
       " '35. In the figure shown below, ABCD is a rectangle, EFGH is a square, and (line)CD is the diameter of a semicircle. Points K is the midpoint of (line)CD. Point J is the midpoint of both (line)AB and (line)EF. Points E and F lie on (line)AB. The 3 given lengths are in meters. ',\n",
       " '',\n",
       " 'What is the length, in meters, of arc (arc)CD?',\n",
       " '2.5π',\n",
       " '5π',\n",
       " '6.25π',\n",
       " '10π',\n",
       " '25π',\n",
       " '[PICTURE]',\n",
       " '58. In the circle with center D shown below, the length of radius (line)CD is 4 cm, the length of (line)BC is 1 cm, and (line)BC is perpendicular to radius (line)AD at B. When (Angle)ADC is measured in degrees, which of the following expressions represents the length, in centimeters of (arc)AC?',\n",
       " ' (π/45)(sin-1(¼))',\n",
       " '(π/45)(cos-1(¼))',\n",
       " '(2π/45)(sin-1(¼))',\n",
       " '(2π/45)(cos-1(¼))',\n",
       " '(2π/45)(tan-1(¼))',\n",
       " '******picture*****',\n",
       " '',\n",
       " 'December 2015',\n",
       " '8. The circular spinner dial for a new board game is divided into 6 congruent sectors. What is the arc measure, in degrees, of each sector?',\n",
       " '30°',\n",
       " '36°',\n",
       " '45°',\n",
       " '60°',\n",
       " '72°',\n",
       " '26. The diameter of a circle is 6 feet. What is the area, in square feet, of the circle?',\n",
       " '3π',\n",
       " '6π',\n",
       " '9π',\n",
       " '36π',\n",
       " '144π',\n",
       " '38. In standard (x,y) coordinate plane below, a circle has a radius of r coordinate units and passes through the origin, O. The circle has diameter (line)OS, where S lies on the negative y-axis. In terms of r, what are the coordinates of S?',\n",
       " ' (0, -2πr)',\n",
       " '(0, -2r)',\n",
       " '(0, -r)',\n",
       " '(0, -0.5r)',\n",
       " '(0, r)',\n",
       " '****picture***',\n",
       " '',\n",
       " 'June 2016',\n",
       " '33. The circumference of a circle is 20cm. What is the length, in centimeters, of the radius of the circle?',\n",
       " 'π',\n",
       " '10/π',\n",
       " '20/π ',\n",
       " '20',\n",
       " '20π',\n",
       " 'December 2016',\n",
       " '47. A circle with radius 10 cm is divided into 3 congruent arcs. What is the length, in centimeters, of each of the 3 arcs?',\n",
       " '(10π)/3',\n",
       " '(20π)/3',\n",
       " '10π',\n",
       " '(40π)/3',\n",
       " '20π',\n",
       " '',\n",
       " '60. The circle with equation x2 + (y - 1)2 = 1 is graphed in the standard (x,y) coordinate plane below. Suppose the circle rolls along the positive x-axis for 2 rotations and then stops. Which of the following is an equation of the circle in its new position?',\n",
       " ' (x + 2)2 + (y - 1)2 = 1',\n",
       " '(x + 2π)2 + (y - 1)2 = 1',\n",
       " '(x + 4π)2 + (y - 1)2 = 1',\n",
       " '(x - 2π)2 + (y - 1)2 = 1',\n",
       " '(x - 4π)2 + (y - 1)2 = 1',\n",
       " '****picture****',\n",
       " '',\n",
       " 'June 2017',\n",
       " '52. In the standard (x,y) coordinate plane, the circle centered at (1,3) that passes through (4,7) is the set of all points are:',\n",
       " '5 coordinate units from (1,3).',\n",
       " '5 coordinate units from both (1,3) and (4,7).',\n",
       " '5 coordinate units from the line segment with endpoints (1,3) and (4,7).',\n",
       " 'Equidistant from (1,3) and (4,7).',\n",
       " 'Equidistant from the line segment with endpoints (1,3) and (4,7).']"
      ]
     },
     "execution_count": 342,
     "metadata": {},
     "output_type": "execute_result"
    }
   ],
   "source": [
    "text_split"
   ]
  },
  {
   "cell_type": "code",
   "execution_count": 343,
   "metadata": {},
   "outputs": [],
   "source": [
    "columns = ['year_month','question_num','question','A','B','C','D','E','F','G','H','I','J','K','L','M','N',]\n",
    "df_absolute_values = pd.DataFrame(columns=columns, dtype='U')"
   ]
  },
  {
   "cell_type": "code",
   "execution_count": 344,
   "metadata": {},
   "outputs": [],
   "source": [
    "title = text_split[0]\n",
    "full_list = []\n",
    "new = []\n",
    "for line in text_split[1:80]:\n",
    "    if re.search('(^December|June|April|July)', line):\n",
    "        date = line\n",
    "        continue\n",
    "    if re.search('^..\\.', line):\n",
    "        if len(new) > 0:\n",
    "            full_list.append(new)\n",
    "            new = []\n",
    "        new.append(title)\n",
    "        new.append(date)\n",
    "        new.append(line)\n",
    "        continue\n",
    "    if re.search('^.\\.', line):\n",
    "        if len(new) > 0:\n",
    "            full_list.append(new)\n",
    "            new = []\n",
    "        new.append(title)\n",
    "        new.append(date)\n",
    "        new.append(line)\n",
    "        continue\n",
    "    else:\n",
    "        new.append(line)"
   ]
  },
  {
   "cell_type": "code",
   "execution_count": 345,
   "metadata": {
    "scrolled": true
   },
   "outputs": [
    {
     "data": {
      "text/plain": [
       "[['Circles',\n",
       "  'April 2015',\n",
       "  '30. The circle in the standard (x,y) coordinate plane below has center (-8.5, 7.5) and has radius 5 coordinate units.',\n",
       "  'Which of the following is an equation of this circle? ',\n",
       "  '(x - 8.5)2 + (y + 7.5)2 = 10',\n",
       "  '(x + 8.5)2 + (y - 7.5)2 = 10',\n",
       "  '(x - 8.5)2 + (y + 7.5)2 = 25',\n",
       "  '(x + 8.5)2 + (y - 7.5)2 = 25',\n",
       "  '(x + 8.5)2 + (y + 7.5)2 = 25',\n",
       "  '[PICTURE]'],\n",
       " ['Circles',\n",
       "  'April 2015',\n",
       "  '31. The circle in the standard (x,y) coordinate plane below has center (-8.5, 7.5) and has radius 5 coordinate units.',\n",
       "  'What is the area, in square coordinate units, of this circle?',\n",
       "  '(5/2)π',\n",
       "  '(25/2)π',\n",
       "  '10π',\n",
       "  '25π',\n",
       "  '100π',\n",
       "  '[PICTURE]'],\n",
       " ['Circles',\n",
       "  'April 2015',\n",
       "  '44. Points O(0,0) and B(0,3) below lie in the standard (x,y) coordinate plane. The collection of all points such that each is twice as far from B as from O forms a circle. The point (rad3, 0) is 1 point on the circle. What are the coordinates of the center of that circle?',\n",
       "  ' ( (rad3)/2 , 3/2)',\n",
       "  '(0, 3/2)',\n",
       "  '(0, 1)',\n",
       "  '(0, -1)',\n",
       "  '(0, -3)',\n",
       "  '****picture****'],\n",
       " ['Circles',\n",
       "  'June 2015',\n",
       "  '24. The circle shown below has below has diameter (line)AD, and points B and C lie on the circle. The measure of (angle)CAD is 30°, and the measure of minor arc (arc)CD is 60°. What is the measure of minor arc (arc)AC? ',\n",
       "  '75°',\n",
       "  '90°',\n",
       "  '105°',\n",
       "  '120°',\n",
       "  '150°',\n",
       "  '[PICTURE]'],\n",
       " ['Circles',\n",
       "  'June 2015',\n",
       "  '27. Graphed in the same standard (x,y) coordinate plane are a circle and a parabola. The circle has radius 3 and center (0, 0). The parabola has vertex (-3, -2), has a vertical axis of symmetry, and passes through (-2, -1). The circle and the parabola intersect at how many points?',\n",
       "  '0',\n",
       "  '1',\n",
       "  '2',\n",
       "  '3',\n",
       "  '4',\n",
       "  ''],\n",
       " ['Circles',\n",
       "  'June 2015',\n",
       "  '35. In the figure shown below, ABCD is a rectangle, EFGH is a square, and (line)CD is the diameter of a semicircle. Points K is the midpoint of (line)CD. Point J is the midpoint of both (line)AB and (line)EF. Points E and F lie on (line)AB. The 3 given lengths are in meters. ',\n",
       "  '',\n",
       "  'What is the length, in meters, of arc (arc)CD?'],\n",
       " ['Circles', 'June 2015', '2.5π', '5π'],\n",
       " ['Circles', 'June 2015', '6.25π', '10π', '25π', '[PICTURE]'],\n",
       " ['Circles',\n",
       "  'June 2015',\n",
       "  '58. In the circle with center D shown below, the length of radius (line)CD is 4 cm, the length of (line)BC is 1 cm, and (line)BC is perpendicular to radius (line)AD at B. When (Angle)ADC is measured in degrees, which of the following expressions represents the length, in centimeters of (arc)AC?',\n",
       "  ' (π/45)(sin-1(¼))',\n",
       "  '(π/45)(cos-1(¼))',\n",
       "  '(2π/45)(sin-1(¼))',\n",
       "  '(2π/45)(cos-1(¼))',\n",
       "  '(2π/45)(tan-1(¼))',\n",
       "  '******picture*****',\n",
       "  ''],\n",
       " ['Circles',\n",
       "  'December 2015',\n",
       "  '8. The circular spinner dial for a new board game is divided into 6 congruent sectors. What is the arc measure, in degrees, of each sector?',\n",
       "  '30°',\n",
       "  '36°',\n",
       "  '45°',\n",
       "  '60°',\n",
       "  '72°'],\n",
       " ['Circles',\n",
       "  'December 2015',\n",
       "  '26. The diameter of a circle is 6 feet. What is the area, in square feet, of the circle?',\n",
       "  '3π',\n",
       "  '6π',\n",
       "  '9π',\n",
       "  '36π',\n",
       "  '144π'],\n",
       " ['Circles',\n",
       "  'December 2015',\n",
       "  '38. In standard (x,y) coordinate plane below, a circle has a radius of r coordinate units and passes through the origin, O. The circle has diameter (line)OS, where S lies on the negative y-axis. In terms of r, what are the coordinates of S?',\n",
       "  ' (0, -2πr)',\n",
       "  '(0, -2r)',\n",
       "  '(0, -r)',\n",
       "  '(0, -0.5r)',\n",
       "  '(0, r)',\n",
       "  '****picture***',\n",
       "  '']]"
      ]
     },
     "execution_count": 345,
     "metadata": {},
     "output_type": "execute_result"
    }
   ],
   "source": [
    "full_list"
   ]
  },
  {
   "cell_type": "code",
   "execution_count": 346,
   "metadata": {},
   "outputs": [],
   "source": [
    "from pandas import DataFrame\n",
    "df = DataFrame.from_records(full_list)\n",
    "df.to_csv('Circles.csv')"
   ]
  },
  {
   "cell_type": "code",
   "execution_count": null,
   "metadata": {},
   "outputs": [],
   "source": []
  },
  {
   "cell_type": "code",
   "execution_count": null,
   "metadata": {},
   "outputs": [],
   "source": []
  }
 ],
 "metadata": {
  "kernelspec": {
   "display_name": "Python [default]",
   "language": "python",
   "name": "python3"
  },
  "language_info": {
   "codemirror_mode": {
    "name": "ipython",
    "version": 3
   },
   "file_extension": ".py",
   "mimetype": "text/x-python",
   "name": "python",
   "nbconvert_exporter": "python",
   "pygments_lexer": "ipython3",
   "version": "3.5.5"
  }
 },
 "nbformat": 4,
 "nbformat_minor": 2
}
