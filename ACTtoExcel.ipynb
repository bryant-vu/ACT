{
 "cells": [
  {
   "cell_type": "code",
   "execution_count": 285,
   "metadata": {},
   "outputs": [],
   "source": [
    "import pandas as pd, docx2txt\n",
    "from io import StringIO"
   ]
  },
  {
   "cell_type": "code",
   "execution_count": 286,
   "metadata": {},
   "outputs": [],
   "source": [
    "text = docx2txt.process (\"C:/Users/Bryant/Desktop/ACT_Project/ACT Math Sheets/Absolute Values.docx\")"
   ]
  },
  {
   "cell_type": "code",
   "execution_count": 287,
   "metadata": {},
   "outputs": [
    {
     "data": {
      "text/plain": [
       "'Absolute Values\\n\\n\\n\\nApril 2015\\n\\n1. |3(-2) + 4| = ?\\n\\n-2\\n\\n2\\n\\n5\\n\\n9\\n\\n10\\n\\nDecember 2015\\n\\n40. What is the set of real solutions for |x|2 - |x| - 2 = 0?\\n\\n{2}\\n\\n{-2, 2}\\n\\n{-1, 2}\\n\\n{1, 2}\\n\\n{-2, -1, 1, 2}\\n\\nJune 2016\\n\\n15. |6(-7) + 4(8)| = ?\\n\\n-144\\n\\n-10\\n\\n10\\n\\n74\\n\\n144\\n\\n54. The graphs of the functions y = f(x) = (x - 3)2 + 2 and y = g(x) = (½)x + (½) are shown in the standard (x,y) coordinate plane below. Which of the following is NOT true?\\n\\n*******picture******\\n\\n|f(x)| = f(x)\\n\\n|g(x)| = g(x)\\n\\nf(3) = g(3)\\n\\nf(3 ½ ) = g(3 ½ )\\n\\nf(g(1)) = 6\\n\\nApril 2016\\n\\n1. What is |5 - x| when x=9?\\n\\n-14\\n\\n-4\\n\\n4\\n\\n9\\n\\n14\\n\\nDecember 2016\\n\\n5. What is the value of 2|2 - 9| - 3(4 + 2)?\\n\\n-32\\n\\n-26\\n\\n-15\\n\\n-5\\n\\n-4\\n\\n45. For all real numbers a, b, and c, which of the following expressions is equal to |a - b - c|?\\n\\n|a + b + c|\\n\\n|a + b - c|\\n\\n|a - b + c|\\n\\n|-a +b + c|\\n\\n|-a - b - c|\\n\\n58. What is the minimum value of f(x) = | -(x - h)2 + k| - q for each set of positive real numbers, h, k, and q?\\n\\n-q\\n\\n-k\\n\\nK\\n\\n-k - q\\n\\nk - q\\n\\nJune 2017\\n\\n10. What is the value of |-6| - |7 - 41| ?\\n\\n-40\\n\\n-28\\n\\n28\\n\\n40\\n\\n54\\n\\nApril 2017\\n\\n15. What is the value of the expression below?\\n\\n\\t\\t| | -8 + 4 | - | 3 - 9 | |\\n\\n-18\\n\\n-2\\n\\n0\\n\\n2\\n\\n18\\n\\n40. The equation |2x - 8| + 3 = 5 has 2 solutions. Those solutions are equal to the solutions to which of the following pairs of equations?\\n\\n2x - 5 = 5\\n-2x - 5 = -5\\n\\n2x - 8 = 2\\n-2x - 8 = 2\\n\\n2x - 8 = 8\\n-(2x - 8) = 8\\n\\n2x - 8 = 2\\n-(2x - 8) = 8\\n\\n2x - 8 = 2\\n-(2x - 8) = 2'"
      ]
     },
     "execution_count": 287,
     "metadata": {},
     "output_type": "execute_result"
    }
   ],
   "source": [
    "text"
   ]
  },
  {
   "cell_type": "code",
   "execution_count": 288,
   "metadata": {},
   "outputs": [],
   "source": [
    "Data_Interpretation = docx2txt.process (\"C:/Users/Bryant/Desktop/ACT_Project/ACT Math Sheets/Data Interpretation.docx\")"
   ]
  },
  {
   "cell_type": "code",
   "execution_count": 289,
   "metadata": {},
   "outputs": [
    {
     "data": {
      "text/plain": [
       "'Data Interpretation\\n\\nApril 2017\\n\\n41) The frequency chart below shows the cumulative number of Ms. Hernandez’s science students whose test scores fell within certain score ranges. All test scores are whole numbers.\\n\\n[PICTURE]\\n\\nHow many students have a test score in the interval 71-80?\\n\\n1\\n\\n6\\n\\n8\\n\\n12\\n\\n13\\n\\n48. ABC Cabs and Tary Taxicabs both have an initial fare of a whole number of dollars for 1 passenger. The fare increases a whole number dollars at each whole number of miles traveled. The graphs below show the 1-passenger fares, in dollars, for both cab companies for trips up to 6 miles. When the fares of the 2 cab companies are compared, what is the cheaper fare for a 5-mile trip?\\n\\n****picture****\\n\\n$8\\n\\n$9\\n\\n$10\\n\\n$11\\n\\n$12\\n\\n\\n\\nApril 2016\\n\\n14) The phrases below represent 3 types of measurements as functions of time. \\n\\nI. The height of an object falling toward the ground\\n\\nII. The height of a plant growing at a constant rate\\n\\nIII. The distance a car travels while increasing its velocity\\n\\nGraphs A, B and C below each represent one of these functions. For all graphs, the x-axis represents time. Which graph is of which function?\\n\\n[PICTURE]\\n\\nGraph A\\t Graph B \\tGraph C\\n\\nF.\\t     I \\t\\t     II \\t\\t    III\\n\\nG. \\t    II \\t                  I \\t\\t    III\\n\\nH. \\t    II \\t\\t     III \\t\\t     I\\n\\nJ.\\t    III\\t\\t      I \\t\\t    II\\n\\nK. \\t    III \\t\\t     II\\t\\t     I'"
      ]
     },
     "execution_count": 289,
     "metadata": {},
     "output_type": "execute_result"
    }
   ],
   "source": [
    "Data_Interpretation"
   ]
  },
  {
   "cell_type": "code",
   "execution_count": 290,
   "metadata": {},
   "outputs": [],
   "source": [
    "text_split = [line.split('\\n') for line in StringIO(text).read().split('\\n\\n')]"
   ]
  },
  {
   "cell_type": "code",
   "execution_count": 291,
   "metadata": {},
   "outputs": [],
   "source": [
    "text_split = [item for items in text_split for item in items]"
   ]
  },
  {
   "cell_type": "code",
   "execution_count": 292,
   "metadata": {},
   "outputs": [
    {
     "data": {
      "text/plain": [
       "['Absolute Values',\n",
       " '',\n",
       " 'April 2015',\n",
       " '1. |3(-2) + 4| = ?',\n",
       " '-2',\n",
       " '2',\n",
       " '5',\n",
       " '9',\n",
       " '10',\n",
       " 'December 2015',\n",
       " '40. What is the set of real solutions for |x|2 - |x| - 2 = 0?',\n",
       " '{2}',\n",
       " '{-2, 2}',\n",
       " '{-1, 2}',\n",
       " '{1, 2}',\n",
       " '{-2, -1, 1, 2}',\n",
       " 'June 2016',\n",
       " '15. |6(-7) + 4(8)| = ?',\n",
       " '-144',\n",
       " '-10',\n",
       " '10',\n",
       " '74',\n",
       " '144',\n",
       " '54. The graphs of the functions y = f(x) = (x - 3)2 + 2 and y = g(x) = (½)x + (½) are shown in the standard (x,y) coordinate plane below. Which of the following is NOT true?',\n",
       " '*******picture******',\n",
       " '|f(x)| = f(x)',\n",
       " '|g(x)| = g(x)',\n",
       " 'f(3) = g(3)',\n",
       " 'f(3 ½ ) = g(3 ½ )',\n",
       " 'f(g(1)) = 6',\n",
       " 'April 2016',\n",
       " '1. What is |5 - x| when x=9?',\n",
       " '-14',\n",
       " '-4',\n",
       " '4',\n",
       " '9',\n",
       " '14',\n",
       " 'December 2016',\n",
       " '5. What is the value of 2|2 - 9| - 3(4 + 2)?',\n",
       " '-32',\n",
       " '-26',\n",
       " '-15',\n",
       " '-5',\n",
       " '-4',\n",
       " '45. For all real numbers a, b, and c, which of the following expressions is equal to |a - b - c|?',\n",
       " '|a + b + c|',\n",
       " '|a + b - c|',\n",
       " '|a - b + c|',\n",
       " '|-a +b + c|',\n",
       " '|-a - b - c|',\n",
       " '58. What is the minimum value of f(x) = | -(x - h)2 + k| - q for each set of positive real numbers, h, k, and q?',\n",
       " '-q',\n",
       " '-k',\n",
       " 'K',\n",
       " '-k - q',\n",
       " 'k - q',\n",
       " 'June 2017',\n",
       " '10. What is the value of |-6| - |7 - 41| ?',\n",
       " '-40',\n",
       " '-28',\n",
       " '28',\n",
       " '40',\n",
       " '54',\n",
       " 'April 2017',\n",
       " '15. What is the value of the expression below?',\n",
       " '\\t\\t| | -8 + 4 | - | 3 - 9 | |',\n",
       " '-18',\n",
       " '-2',\n",
       " '0',\n",
       " '2',\n",
       " '18',\n",
       " '40. The equation |2x - 8| + 3 = 5 has 2 solutions. Those solutions are equal to the solutions to which of the following pairs of equations?',\n",
       " '2x - 5 = 5',\n",
       " '-2x - 5 = -5',\n",
       " '2x - 8 = 2',\n",
       " '-2x - 8 = 2',\n",
       " '2x - 8 = 8',\n",
       " '-(2x - 8) = 8',\n",
       " '2x - 8 = 2',\n",
       " '-(2x - 8) = 8',\n",
       " '2x - 8 = 2',\n",
       " '-(2x - 8) = 2']"
      ]
     },
     "execution_count": 292,
     "metadata": {},
     "output_type": "execute_result"
    }
   ],
   "source": [
    "text_split"
   ]
  },
  {
   "cell_type": "code",
   "execution_count": 293,
   "metadata": {},
   "outputs": [],
   "source": [
    "columns = ['year_month','question_num','question','A','B','C','D','E','F','G','H','I','J','K','L','M','N',]\n",
    "df_absolute_values = pd.DataFrame(columns=columns, dtype='U')"
   ]
  },
  {
   "cell_type": "code",
   "execution_count": 294,
   "metadata": {},
   "outputs": [
    {
     "name": "stdout",
     "output_type": "stream",
     "text": [
      "Absolute Values\n"
     ]
    }
   ],
   "source": [
    "print (str(text_split[0]))"
   ]
  },
  {
   "cell_type": "code",
   "execution_count": 321,
   "metadata": {},
   "outputs": [
    {
     "data": {
      "text/html": [
       "<div>\n",
       "<table border=\"1\" class=\"dataframe\">\n",
       "  <thead>\n",
       "    <tr style=\"text-align: right;\">\n",
       "      <th></th>\n",
       "      <th>year_month</th>\n",
       "      <th>question_num</th>\n",
       "      <th>question</th>\n",
       "      <th>A</th>\n",
       "      <th>B</th>\n",
       "      <th>C</th>\n",
       "      <th>D</th>\n",
       "      <th>E</th>\n",
       "      <th>F</th>\n",
       "      <th>G</th>\n",
       "      <th>H</th>\n",
       "      <th>I</th>\n",
       "      <th>J</th>\n",
       "      <th>K</th>\n",
       "      <th>L</th>\n",
       "      <th>M</th>\n",
       "      <th>N</th>\n",
       "    </tr>\n",
       "  </thead>\n",
       "  <tbody>\n",
       "  </tbody>\n",
       "</table>\n",
       "</div>"
      ],
      "text/plain": [
       "Empty DataFrame\n",
       "Columns: [year_month, question_num, question, A, B, C, D, E, F, G, H, I, J, K, L, M, N]\n",
       "Index: []"
      ]
     },
     "execution_count": 321,
     "metadata": {},
     "output_type": "execute_result"
    }
   ],
   "source": [
    "df_absolute_values"
   ]
  },
  {
   "cell_type": "code",
   "execution_count": 325,
   "metadata": {},
   "outputs": [
    {
     "name": "stdout",
     "output_type": "stream",
     "text": [
      "2\n",
      "['year_month', 'question_num', 'question']\n",
      "['Absolute Values', '', 'April 2015']\n"
     ]
    },
    {
     "name": "stderr",
     "output_type": "stream",
     "text": [
      "C:\\Users\\Bryant\\Anaconda3\\lib\\site-packages\\pandas\\core\\frame.py:4427: RuntimeWarning: unorderable types: str() < int(), sort order is undefined for incomparable objects\n",
      "  other.index).difference(self.columns).tolist()\n"
     ]
    },
    {
     "data": {
      "text/html": [
       "<div>\n",
       "<table border=\"1\" class=\"dataframe\">\n",
       "  <thead>\n",
       "    <tr style=\"text-align: right;\">\n",
       "      <th></th>\n",
       "      <th>year_month</th>\n",
       "      <th>question_num</th>\n",
       "      <th>question</th>\n",
       "      <th>A</th>\n",
       "      <th>B</th>\n",
       "      <th>C</th>\n",
       "      <th>D</th>\n",
       "      <th>E</th>\n",
       "      <th>F</th>\n",
       "      <th>G</th>\n",
       "      <th>H</th>\n",
       "      <th>I</th>\n",
       "      <th>J</th>\n",
       "      <th>K</th>\n",
       "      <th>L</th>\n",
       "      <th>M</th>\n",
       "      <th>N</th>\n",
       "    </tr>\n",
       "  </thead>\n",
       "  <tbody>\n",
       "  </tbody>\n",
       "</table>\n",
       "</div>"
      ],
      "text/plain": [
       "Empty DataFrame\n",
       "Columns: [year_month, question_num, question, A, B, C, D, E, F, G, H, I, J, K, L, M, N]\n",
       "Index: []"
      ]
     },
     "execution_count": 325,
     "metadata": {},
     "output_type": "execute_result"
    }
   ],
   "source": [
    "if re.search('(^.\\. | ^..\\. | ^.\\) | ^..\\))',line):\n",
    "    print(2)\n",
    "    if len(dummy_list) > 0:\n",
    "        dummy_columns = columns[0:(len(dummy_list))]\n",
    "        dummy_series = pd.Series(dummy_list)\n",
    "        df_absolute_values.append(dummy_series,ignore_index=True)\n",
    "        print(dummy_columns)\n",
    "        print(dummy_list)\n",
    "df_absolute_values"
   ]
  },
  {
   "cell_type": "code",
   "execution_count": 319,
   "metadata": {},
   "outputs": [
    {
     "data": {
      "text/plain": [
       "<bound method IndexOpsMixin.transpose of 0    Absolute Values\n",
       "1                   \n",
       "2         April 2015\n",
       "dtype: object>"
      ]
     },
     "execution_count": 319,
     "metadata": {},
     "output_type": "execute_result"
    }
   ],
   "source": [
    "test = pd.Series(dummy_list).transpose\n",
    "test"
   ]
  },
  {
   "cell_type": "code",
   "execution_count": 320,
   "metadata": {},
   "outputs": [
    {
     "name": "stderr",
     "output_type": "stream",
     "text": [
      "C:\\Users\\Bryant\\Anaconda3\\lib\\site-packages\\pandas\\indexes\\api.py:71: RuntimeWarning: unorderable types: str() < int(), sort order is undefined for incomparable objects\n",
      "  result = result.union(other)\n"
     ]
    },
    {
     "data": {
      "text/html": [
       "<div>\n",
       "<table border=\"1\" class=\"dataframe\">\n",
       "  <thead>\n",
       "    <tr style=\"text-align: right;\">\n",
       "      <th></th>\n",
       "      <th>year_month</th>\n",
       "      <th>question_num</th>\n",
       "      <th>question</th>\n",
       "      <th>A</th>\n",
       "      <th>B</th>\n",
       "      <th>C</th>\n",
       "      <th>D</th>\n",
       "      <th>E</th>\n",
       "      <th>F</th>\n",
       "      <th>G</th>\n",
       "      <th>H</th>\n",
       "      <th>I</th>\n",
       "      <th>J</th>\n",
       "      <th>K</th>\n",
       "      <th>L</th>\n",
       "      <th>M</th>\n",
       "      <th>N</th>\n",
       "      <th>0</th>\n",
       "    </tr>\n",
       "  </thead>\n",
       "  <tbody>\n",
       "    <tr>\n",
       "      <th>0</th>\n",
       "      <td>NaN</td>\n",
       "      <td>NaN</td>\n",
       "      <td>NaN</td>\n",
       "      <td>NaN</td>\n",
       "      <td>NaN</td>\n",
       "      <td>NaN</td>\n",
       "      <td>NaN</td>\n",
       "      <td>NaN</td>\n",
       "      <td>NaN</td>\n",
       "      <td>NaN</td>\n",
       "      <td>NaN</td>\n",
       "      <td>NaN</td>\n",
       "      <td>NaN</td>\n",
       "      <td>NaN</td>\n",
       "      <td>NaN</td>\n",
       "      <td>NaN</td>\n",
       "      <td>NaN</td>\n",
       "      <td>&lt;bound method IndexOpsMixin.transpose of 0    ...</td>\n",
       "    </tr>\n",
       "    <tr>\n",
       "      <th>1</th>\n",
       "      <td>NaN</td>\n",
       "      <td>NaN</td>\n",
       "      <td>NaN</td>\n",
       "      <td>NaN</td>\n",
       "      <td>NaN</td>\n",
       "      <td>NaN</td>\n",
       "      <td>NaN</td>\n",
       "      <td>NaN</td>\n",
       "      <td>NaN</td>\n",
       "      <td>NaN</td>\n",
       "      <td>NaN</td>\n",
       "      <td>NaN</td>\n",
       "      <td>NaN</td>\n",
       "      <td>NaN</td>\n",
       "      <td>NaN</td>\n",
       "      <td>NaN</td>\n",
       "      <td>NaN</td>\n",
       "      <td>Empty DataFrame\n",
       "Columns: [year_month, question...</td>\n",
       "    </tr>\n",
       "  </tbody>\n",
       "</table>\n",
       "</div>"
      ],
      "text/plain": [
       "  year_month question_num question    A    B    C    D    E    F    G    H  \\\n",
       "0        NaN          NaN      NaN  NaN  NaN  NaN  NaN  NaN  NaN  NaN  NaN   \n",
       "1        NaN          NaN      NaN  NaN  NaN  NaN  NaN  NaN  NaN  NaN  NaN   \n",
       "\n",
       "     I    J    K    L    M    N  \\\n",
       "0  NaN  NaN  NaN  NaN  NaN  NaN   \n",
       "1  NaN  NaN  NaN  NaN  NaN  NaN   \n",
       "\n",
       "                                                   0  \n",
       "0  <bound method IndexOpsMixin.transpose of 0    ...  \n",
       "1  Empty DataFrame\n",
       "Columns: [year_month, question...  "
      ]
     },
     "execution_count": 320,
     "metadata": {},
     "output_type": "execute_result"
    }
   ],
   "source": [
    "     \n",
    "df_absolute_values.append([test, df_absolute_values])"
   ]
  },
  {
   "cell_type": "code",
   "execution_count": 299,
   "metadata": {},
   "outputs": [
    {
     "name": "stdout",
     "output_type": "stream",
     "text": [
      "1\n",
      "2\n"
     ]
    },
    {
     "ename": "ValueError",
     "evalue": "Shape of passed values is (1, 3), indices imply (3, 3)",
     "output_type": "error",
     "traceback": [
      "\u001b[0;31m---------------------------------------------------------------------------\u001b[0m",
      "\u001b[0;31mValueError\u001b[0m                                Traceback (most recent call last)",
      "\u001b[0;32mC:\\Users\\Bryant\\Anaconda3\\lib\\site-packages\\pandas\\core\\internals.py\u001b[0m in \u001b[0;36mcreate_block_manager_from_blocks\u001b[0;34m(blocks, axes)\u001b[0m\n\u001b[1;32m   4244\u001b[0m                 blocks = [make_block(values=blocks[0],\n\u001b[0;32m-> 4245\u001b[0;31m                                      placement=slice(0, len(axes[0])))]\n\u001b[0m\u001b[1;32m   4246\u001b[0m \u001b[1;33m\u001b[0m\u001b[0m\n",
      "\u001b[0;32mC:\\Users\\Bryant\\Anaconda3\\lib\\site-packages\\pandas\\core\\internals.py\u001b[0m in \u001b[0;36mmake_block\u001b[0;34m(values, placement, klass, ndim, dtype, fastpath)\u001b[0m\n\u001b[1;32m   2684\u001b[0m \u001b[1;33m\u001b[0m\u001b[0m\n\u001b[0;32m-> 2685\u001b[0;31m     \u001b[1;32mreturn\u001b[0m \u001b[0mklass\u001b[0m\u001b[1;33m(\u001b[0m\u001b[0mvalues\u001b[0m\u001b[1;33m,\u001b[0m \u001b[0mndim\u001b[0m\u001b[1;33m=\u001b[0m\u001b[0mndim\u001b[0m\u001b[1;33m,\u001b[0m \u001b[0mfastpath\u001b[0m\u001b[1;33m=\u001b[0m\u001b[0mfastpath\u001b[0m\u001b[1;33m,\u001b[0m \u001b[0mplacement\u001b[0m\u001b[1;33m=\u001b[0m\u001b[0mplacement\u001b[0m\u001b[1;33m)\u001b[0m\u001b[1;33m\u001b[0m\u001b[0m\n\u001b[0m\u001b[1;32m   2686\u001b[0m \u001b[1;33m\u001b[0m\u001b[0m\n",
      "\u001b[0;32mC:\\Users\\Bryant\\Anaconda3\\lib\\site-packages\\pandas\\core\\internals.py\u001b[0m in \u001b[0;36m__init__\u001b[0;34m(self, values, ndim, fastpath, placement, **kwargs)\u001b[0m\n\u001b[1;32m   1816\u001b[0m         super(ObjectBlock, self).__init__(values, ndim=ndim, fastpath=fastpath,\n\u001b[0;32m-> 1817\u001b[0;31m                                           placement=placement, **kwargs)\n\u001b[0m\u001b[1;32m   1818\u001b[0m \u001b[1;33m\u001b[0m\u001b[0m\n",
      "\u001b[0;32mC:\\Users\\Bryant\\Anaconda3\\lib\\site-packages\\pandas\\core\\internals.py\u001b[0m in \u001b[0;36m__init__\u001b[0;34m(self, values, placement, ndim, fastpath)\u001b[0m\n\u001b[1;32m    108\u001b[0m                              'implies %d' % (len(self.values),\n\u001b[0;32m--> 109\u001b[0;31m                                              len(self.mgr_locs)))\n\u001b[0m\u001b[1;32m    110\u001b[0m \u001b[1;33m\u001b[0m\u001b[0m\n",
      "\u001b[0;31mValueError\u001b[0m: Wrong number of items passed 1, placement implies 3",
      "\nDuring handling of the above exception, another exception occurred:\n",
      "\u001b[0;31mValueError\u001b[0m                                Traceback (most recent call last)",
      "\u001b[0;32m<ipython-input-299-87cb7fd43457>\u001b[0m in \u001b[0;36m<module>\u001b[0;34m()\u001b[0m\n\u001b[1;32m     13\u001b[0m         \u001b[1;32mif\u001b[0m \u001b[0mlen\u001b[0m\u001b[1;33m(\u001b[0m\u001b[0mdummy_list\u001b[0m\u001b[1;33m)\u001b[0m \u001b[1;33m>\u001b[0m \u001b[1;36m0\u001b[0m\u001b[1;33m:\u001b[0m\u001b[1;33m\u001b[0m\u001b[0m\n\u001b[1;32m     14\u001b[0m             \u001b[0mdummy_columns\u001b[0m \u001b[1;33m=\u001b[0m \u001b[0mcolumns\u001b[0m\u001b[1;33m[\u001b[0m\u001b[1;36m0\u001b[0m\u001b[1;33m:\u001b[0m\u001b[1;33m(\u001b[0m\u001b[0mlen\u001b[0m\u001b[1;33m(\u001b[0m\u001b[0mdummy_list\u001b[0m\u001b[1;33m)\u001b[0m\u001b[1;33m)\u001b[0m\u001b[1;33m]\u001b[0m\u001b[1;33m\u001b[0m\u001b[0m\n\u001b[0;32m---> 15\u001b[0;31m             \u001b[0mdummy_df\u001b[0m \u001b[1;33m=\u001b[0m \u001b[0mpd\u001b[0m\u001b[1;33m.\u001b[0m\u001b[0mDataFrame\u001b[0m\u001b[1;33m(\u001b[0m\u001b[0mdummy_list\u001b[0m\u001b[1;33m,\u001b[0m \u001b[0mcolumns\u001b[0m\u001b[1;33m=\u001b[0m\u001b[0mdummy_columns\u001b[0m\u001b[1;33m)\u001b[0m\u001b[1;33m\u001b[0m\u001b[0m\n\u001b[0m\u001b[1;32m     16\u001b[0m             \u001b[0mpd\u001b[0m\u001b[1;33m.\u001b[0m\u001b[0mconcat\u001b[0m\u001b[1;33m(\u001b[0m\u001b[1;33m[\u001b[0m\u001b[0mdf_absolute_values\u001b[0m\u001b[1;33m,\u001b[0m\u001b[0mdummy_df\u001b[0m\u001b[1;33m]\u001b[0m\u001b[1;33m,\u001b[0m \u001b[0maxis\u001b[0m\u001b[1;33m=\u001b[0m\u001b[1;36m1\u001b[0m\u001b[1;33m)\u001b[0m\u001b[1;33m\u001b[0m\u001b[0m\n\u001b[1;32m     17\u001b[0m             \u001b[0mdummy_list\u001b[0m \u001b[1;33m=\u001b[0m \u001b[0mlist\u001b[0m\u001b[1;33m(\u001b[0m\u001b[1;33m)\u001b[0m\u001b[1;33m\u001b[0m\u001b[0m\n",
      "\u001b[0;32mC:\\Users\\Bryant\\Anaconda3\\lib\\site-packages\\pandas\\core\\frame.py\u001b[0m in \u001b[0;36m__init__\u001b[0;34m(self, data, index, columns, dtype, copy)\u001b[0m\n\u001b[1;32m    319\u001b[0m                 \u001b[1;32melse\u001b[0m\u001b[1;33m:\u001b[0m\u001b[1;33m\u001b[0m\u001b[0m\n\u001b[1;32m    320\u001b[0m                     mgr = self._init_ndarray(data, index, columns, dtype=dtype,\n\u001b[0;32m--> 321\u001b[0;31m                                              copy=copy)\n\u001b[0m\u001b[1;32m    322\u001b[0m             \u001b[1;32melse\u001b[0m\u001b[1;33m:\u001b[0m\u001b[1;33m\u001b[0m\u001b[0m\n\u001b[1;32m    323\u001b[0m                 \u001b[0mmgr\u001b[0m \u001b[1;33m=\u001b[0m \u001b[0mself\u001b[0m\u001b[1;33m.\u001b[0m\u001b[0m_init_dict\u001b[0m\u001b[1;33m(\u001b[0m\u001b[1;33m{\u001b[0m\u001b[1;33m}\u001b[0m\u001b[1;33m,\u001b[0m \u001b[0mindex\u001b[0m\u001b[1;33m,\u001b[0m \u001b[0mcolumns\u001b[0m\u001b[1;33m,\u001b[0m \u001b[0mdtype\u001b[0m\u001b[1;33m=\u001b[0m\u001b[0mdtype\u001b[0m\u001b[1;33m)\u001b[0m\u001b[1;33m\u001b[0m\u001b[0m\n",
      "\u001b[0;32mC:\\Users\\Bryant\\Anaconda3\\lib\\site-packages\\pandas\\core\\frame.py\u001b[0m in \u001b[0;36m_init_ndarray\u001b[0;34m(self, values, index, columns, dtype, copy)\u001b[0m\n\u001b[1;32m    472\u001b[0m             \u001b[0mvalues\u001b[0m \u001b[1;33m=\u001b[0m \u001b[0m_possibly_infer_to_datetimelike\u001b[0m\u001b[1;33m(\u001b[0m\u001b[0mvalues\u001b[0m\u001b[1;33m)\u001b[0m\u001b[1;33m\u001b[0m\u001b[0m\n\u001b[1;32m    473\u001b[0m \u001b[1;33m\u001b[0m\u001b[0m\n\u001b[0;32m--> 474\u001b[0;31m         \u001b[1;32mreturn\u001b[0m \u001b[0mcreate_block_manager_from_blocks\u001b[0m\u001b[1;33m(\u001b[0m\u001b[1;33m[\u001b[0m\u001b[0mvalues\u001b[0m\u001b[1;33m]\u001b[0m\u001b[1;33m,\u001b[0m \u001b[1;33m[\u001b[0m\u001b[0mcolumns\u001b[0m\u001b[1;33m,\u001b[0m \u001b[0mindex\u001b[0m\u001b[1;33m]\u001b[0m\u001b[1;33m)\u001b[0m\u001b[1;33m\u001b[0m\u001b[0m\n\u001b[0m\u001b[1;32m    475\u001b[0m \u001b[1;33m\u001b[0m\u001b[0m\n\u001b[1;32m    476\u001b[0m     \u001b[1;33m@\u001b[0m\u001b[0mproperty\u001b[0m\u001b[1;33m\u001b[0m\u001b[0m\n",
      "\u001b[0;32mC:\\Users\\Bryant\\Anaconda3\\lib\\site-packages\\pandas\\core\\internals.py\u001b[0m in \u001b[0;36mcreate_block_manager_from_blocks\u001b[0;34m(blocks, axes)\u001b[0m\n\u001b[1;32m   4252\u001b[0m         \u001b[0mblocks\u001b[0m \u001b[1;33m=\u001b[0m \u001b[1;33m[\u001b[0m\u001b[0mgetattr\u001b[0m\u001b[1;33m(\u001b[0m\u001b[0mb\u001b[0m\u001b[1;33m,\u001b[0m \u001b[1;34m'values'\u001b[0m\u001b[1;33m,\u001b[0m \u001b[0mb\u001b[0m\u001b[1;33m)\u001b[0m \u001b[1;32mfor\u001b[0m \u001b[0mb\u001b[0m \u001b[1;32min\u001b[0m \u001b[0mblocks\u001b[0m\u001b[1;33m]\u001b[0m\u001b[1;33m\u001b[0m\u001b[0m\n\u001b[1;32m   4253\u001b[0m         \u001b[0mtot_items\u001b[0m \u001b[1;33m=\u001b[0m \u001b[0msum\u001b[0m\u001b[1;33m(\u001b[0m\u001b[0mb\u001b[0m\u001b[1;33m.\u001b[0m\u001b[0mshape\u001b[0m\u001b[1;33m[\u001b[0m\u001b[1;36m0\u001b[0m\u001b[1;33m]\u001b[0m \u001b[1;32mfor\u001b[0m \u001b[0mb\u001b[0m \u001b[1;32min\u001b[0m \u001b[0mblocks\u001b[0m\u001b[1;33m)\u001b[0m\u001b[1;33m\u001b[0m\u001b[0m\n\u001b[0;32m-> 4254\u001b[0;31m         \u001b[0mconstruction_error\u001b[0m\u001b[1;33m(\u001b[0m\u001b[0mtot_items\u001b[0m\u001b[1;33m,\u001b[0m \u001b[0mblocks\u001b[0m\u001b[1;33m[\u001b[0m\u001b[1;36m0\u001b[0m\u001b[1;33m]\u001b[0m\u001b[1;33m.\u001b[0m\u001b[0mshape\u001b[0m\u001b[1;33m[\u001b[0m\u001b[1;36m1\u001b[0m\u001b[1;33m:\u001b[0m\u001b[1;33m]\u001b[0m\u001b[1;33m,\u001b[0m \u001b[0maxes\u001b[0m\u001b[1;33m,\u001b[0m \u001b[0me\u001b[0m\u001b[1;33m)\u001b[0m\u001b[1;33m\u001b[0m\u001b[0m\n\u001b[0m\u001b[1;32m   4255\u001b[0m \u001b[1;33m\u001b[0m\u001b[0m\n\u001b[1;32m   4256\u001b[0m \u001b[1;33m\u001b[0m\u001b[0m\n",
      "\u001b[0;32mC:\\Users\\Bryant\\Anaconda3\\lib\\site-packages\\pandas\\core\\internals.py\u001b[0m in \u001b[0;36mconstruction_error\u001b[0;34m(tot_items, block_shape, axes, e)\u001b[0m\n\u001b[1;32m   4229\u001b[0m         \u001b[1;32mraise\u001b[0m \u001b[0mValueError\u001b[0m\u001b[1;33m(\u001b[0m\u001b[1;34m\"Empty data passed with indices specified.\"\u001b[0m\u001b[1;33m)\u001b[0m\u001b[1;33m\u001b[0m\u001b[0m\n\u001b[1;32m   4230\u001b[0m     raise ValueError(\"Shape of passed values is {0}, indices imply {1}\".format(\n\u001b[0;32m-> 4231\u001b[0;31m         passed, implied))\n\u001b[0m\u001b[1;32m   4232\u001b[0m \u001b[1;33m\u001b[0m\u001b[0m\n\u001b[1;32m   4233\u001b[0m \u001b[1;33m\u001b[0m\u001b[0m\n",
      "\u001b[0;31mValueError\u001b[0m: Shape of passed values is (1, 3), indices imply (3, 3)"
     ]
    }
   ],
   "source": [
    "import re\n",
    "\n",
    "row = 0\n",
    "col = 0\n",
    "\n",
    "dummy_list = list()\n",
    "for line in text_split:\n",
    "    if re.search('(^December|June|April|July)', line):\n",
    "        date = str(line)\n",
    "        print(1)\n",
    "    if re.search('(^.\\. | ^..\\. | ^.\\) | ^..\\))',line):\n",
    "        print(2)\n",
    "        if len(dummy_list) > 0:\n",
    "            dummy_columns = columns[0:(len(dummy_list))]\n",
    "            dummy_df = pd.DataFrame(dummy_list, columns=dummy_columns)\n",
    "            pd.concat([df_absolute_values,dummy_df], axis=1)\n",
    "            dummy_list = list()\n",
    "        row = row + 1\n",
    "        col = 0\n",
    "        dummy_list.append(date)\n",
    "        dummy_list.append(line)\n",
    "    else:\n",
    "        dummy_list.append(line)\n",
    "        "
   ]
  },
  {
   "cell_type": "code",
   "execution_count": 300,
   "metadata": {},
   "outputs": [
    {
     "data": {
      "text/html": [
       "<div>\n",
       "<table border=\"1\" class=\"dataframe\">\n",
       "  <thead>\n",
       "    <tr style=\"text-align: right;\">\n",
       "      <th></th>\n",
       "      <th>year_month</th>\n",
       "      <th>question_num</th>\n",
       "      <th>question</th>\n",
       "      <th>A</th>\n",
       "      <th>B</th>\n",
       "      <th>C</th>\n",
       "      <th>D</th>\n",
       "      <th>E</th>\n",
       "      <th>F</th>\n",
       "      <th>G</th>\n",
       "      <th>H</th>\n",
       "      <th>I</th>\n",
       "      <th>J</th>\n",
       "      <th>K</th>\n",
       "      <th>L</th>\n",
       "      <th>M</th>\n",
       "      <th>N</th>\n",
       "    </tr>\n",
       "  </thead>\n",
       "  <tbody>\n",
       "  </tbody>\n",
       "</table>\n",
       "</div>"
      ],
      "text/plain": [
       "Empty DataFrame\n",
       "Columns: [year_month, question_num, question, A, B, C, D, E, F, G, H, I, J, K, L, M, N]\n",
       "Index: []"
      ]
     },
     "execution_count": 300,
     "metadata": {},
     "output_type": "execute_result"
    }
   ],
   "source": [
    "df_absolute_values"
   ]
  },
  {
   "cell_type": "code",
   "execution_count": 301,
   "metadata": {},
   "outputs": [
    {
     "data": {
      "text/plain": [
       "['year_month', 'question_num', 'question']"
      ]
     },
     "execution_count": 301,
     "metadata": {},
     "output_type": "execute_result"
    }
   ],
   "source": [
    "(dummy_columns)"
   ]
  },
  {
   "cell_type": "code",
   "execution_count": 302,
   "metadata": {},
   "outputs": [
    {
     "data": {
      "text/plain": [
       "['Absolute Values', '', 'April 2015']"
      ]
     },
     "execution_count": 302,
     "metadata": {},
     "output_type": "execute_result"
    }
   ],
   "source": [
    "(dummy_list)"
   ]
  },
  {
   "cell_type": "code",
   "execution_count": 303,
   "metadata": {},
   "outputs": [
    {
     "data": {
      "text/plain": [
       "['year_month', 'question_num', 'question']"
      ]
     },
     "execution_count": 303,
     "metadata": {},
     "output_type": "execute_result"
    }
   ],
   "source": [
    "dummy_columns"
   ]
  },
  {
   "cell_type": "code",
   "execution_count": 237,
   "metadata": {},
   "outputs": [
    {
     "data": {
      "text/plain": [
       "[]"
      ]
     },
     "execution_count": 237,
     "metadata": {},
     "output_type": "execute_result"
    }
   ],
   "source": []
  },
  {
   "cell_type": "code",
   "execution_count": null,
   "metadata": {},
   "outputs": [],
   "source": []
  }
 ],
 "metadata": {
  "kernelspec": {
   "display_name": "Python [default]",
   "language": "python",
   "name": "python3"
  },
  "language_info": {
   "codemirror_mode": {
    "name": "ipython",
    "version": 3
   },
   "file_extension": ".py",
   "mimetype": "text/x-python",
   "name": "python",
   "nbconvert_exporter": "python",
   "pygments_lexer": "ipython3",
   "version": "3.5.2"
  }
 },
 "nbformat": 4,
 "nbformat_minor": 2
}
