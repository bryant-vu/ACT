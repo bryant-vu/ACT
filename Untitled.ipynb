{
 "cells": [
  {
   "cell_type": "code",
   "execution_count": 14,
   "metadata": {},
   "outputs": [
    {
     "name": "stdout",
     "output_type": "stream",
     "text": [
      "rm: question.sqlite: No such file or directory\r\n"
     ]
    }
   ],
   "source": [
    "!rm question.sqlite\n",
    "\n",
    "import pandas as pd\n",
    "import sqlalchemy\n",
    "from sqlalchemy import create_engine\n",
    "from sqlalchemy.ext.declarative import declarative_base \n",
    "from sqlalchemy import Column, Integer, String, Float, Text, Boolean\n",
    "from sqlalchemy.orm import Session\n",
    "\n",
    "\n",
    "import pymysql\n",
    "pymysql.install_as_MySQLdb()"
   ]
  },
  {
   "cell_type": "code",
   "execution_count": 15,
   "metadata": {
    "collapsed": true
   },
   "outputs": [],
   "source": [
    "file = './data/circles.csv'\n"
   ]
  },
  {
   "cell_type": "code",
   "execution_count": 16,
   "metadata": {},
   "outputs": [
    {
     "data": {
      "text/plain": [
       "['id',\n",
       " 'category',\n",
       " 'test_date',\n",
       " 'statement',\n",
       " 'choice_a',\n",
       " 'choice_b',\n",
       " 'choice_c',\n",
       " 'choice_d']"
      ]
     },
     "execution_count": 16,
     "metadata": {},
     "output_type": "execute_result"
    }
   ],
   "source": [
    "circle_df.columns.tolist()"
   ]
  },
  {
   "cell_type": "code",
   "execution_count": 17,
   "metadata": {
    "collapsed": true
   },
   "outputs": [],
   "source": [
    "engine = create_engine(\"sqlite:///question.sqlite\")\n",
    "conn = engine.connect()\n",
    "Base = declarative_base()"
   ]
  },
  {
   "cell_type": "code",
   "execution_count": 18,
   "metadata": {
    "collapsed": true
   },
   "outputs": [],
   "source": [
    "class Questions(Base):\n",
    "    __tablename__ = \"circle\"\n",
    "    id = Column(Integer, primary_key = True)\n",
    "    category = Column(String(255))\n",
    "    test_date = Column(String(255))\n",
    "    statement = Column(String(255))\n",
    "    choice_a = Column(String(255))\n",
    "    choice_b = Column(String(255))\n",
    "    choice_c = Column(String(255))\n",
    "    choice_d = Column(String(255))"
   ]
  },
  {
   "cell_type": "code",
   "execution_count": 19,
   "metadata": {
    "collapsed": true
   },
   "outputs": [],
   "source": [
    "Base.metadata.create_all(engine)\n",
    "circle_df = pd.read_csv(file)\n",
    "circle_dict = circle_df.to_dict(orient='records')"
   ]
  },
  {
   "cell_type": "code",
   "execution_count": 21,
   "metadata": {},
   "outputs": [
    {
     "data": {
      "text/plain": [
       "<sqlalchemy.engine.result.ResultProxy at 0x1082d4400>"
      ]
     },
     "execution_count": 21,
     "metadata": {},
     "output_type": "execute_result"
    }
   ],
   "source": [
    "Base.metadata.create_all(engine)\n",
    "# metadata = MetaData(bind = engine)\n",
    "metadata.reflect()\n",
    "table = sqlalchemy.Table('circle', metadata, autoload=True)\n",
    "conn.execute(table.delete())\n",
    "conn.execute(table.insert(), circle_dict)\n"
   ]
  },
  {
   "cell_type": "code",
   "execution_count": 23,
   "metadata": {},
   "outputs": [
    {
     "data": {
      "text/plain": [
       "[(1, 'Circles', 'April.2015', 'The circle in the standard (x,y) coordinate plane below has center (-8.5, 7.5) and has radius 5 coordinate units.', 'Lorem ipsum dolor sit amet, ei eum inani adolescens temporibus, omnesque voluptatibus mediocritatem nec te. ', 'At meis brute nam, odio quas natum eu vel. Mediocrem partiendo id cum, epicuri blandit ut eum. ', 'Summo adolescens eum et, vel cu homero labore. Pri reprehendunt signiferumque an. In sea case perpetua.', 'Diceret debitis suavitate id pro, nostrud gloriatur mel at. ')]"
      ]
     },
     "execution_count": 23,
     "metadata": {},
     "output_type": "execute_result"
    }
   ],
   "source": [
    "conn.execute(\"SELECT * FROM circle LIMIT 1\").fetchall()"
   ]
  },
  {
   "cell_type": "code",
   "execution_count": null,
   "metadata": {
    "collapsed": true
   },
   "outputs": [],
   "source": []
  }
 ],
 "metadata": {
  "kernelspec": {
   "display_name": "Python 3",
   "language": "python",
   "name": "python3"
  },
  "language_info": {
   "codemirror_mode": {
    "name": "ipython",
    "version": 3
   },
   "file_extension": ".py",
   "mimetype": "text/x-python",
   "name": "python",
   "nbconvert_exporter": "python",
   "pygments_lexer": "ipython3",
   "version": "3.6.3"
  }
 },
 "nbformat": 4,
 "nbformat_minor": 2
}
