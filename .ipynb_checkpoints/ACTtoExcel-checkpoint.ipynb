{
 "cells": [
  {
   "cell_type": "code",
   "execution_count": 27,
   "metadata": {},
   "outputs": [],
   "source": [
    "import pandas as pd, docx2txt\n",
    "from io import StringIO\n",
    "import os\n",
    "import re"
   ]
  },
  {
   "cell_type": "code",
   "execution_count": 28,
   "metadata": {},
   "outputs": [],
   "source": [
    "text = docx2txt.process (\"C://Users/Bryant/Desktop/ACT_Project/ACT Math Sheets_v2/Absolute Values.docx\")"
   ]
  },
  {
   "cell_type": "code",
   "execution_count": 29,
   "metadata": {},
   "outputs": [
    {
     "data": {
      "text/plain": [
       "'Absolute Values\\n\\n\\n\\nApril 2015\\n\\n1. |3(-2) + 4| = ?\\n\\n-2\\n\\n2\\n\\n5\\n\\n9\\n\\n10\\n\\nDecember 2015\\n\\n40. What is the set of real solutions for |x|2 - |x| - 2 = 0?\\n\\n{2}\\n\\n{-2, 2}\\n\\n{-1, 2}\\n\\n{1, 2}\\n\\n{-2, -1, 1, 2}\\n\\nJune 2016\\n\\n15. |6(-7) + 4(8)| = ?\\n\\n-144\\n\\n-10\\n\\n10\\n\\n74\\n\\n144\\n\\n54. The graphs of the functions y = f(x) = (x - 3)2 + 2 and y = g(x) = (½)x + (½) are shown in the standard (x,y) coordinate plane below. Which of the following is NOT true?\\n\\n*******picture******\\n\\n|f(x)| = f(x)\\n\\n|g(x)| = g(x)\\n\\nf(3) = g(3)\\n\\nf(3 ½ ) = g(3 ½ )\\n\\nf(g(1)) = 6\\n\\nApril 2016\\n\\n1. What is |5 - x| when x=9?\\n\\n-14\\n\\n-4\\n\\n4\\n\\n9\\n\\n14\\n\\nDecember 2016\\n\\n5. What is the value of 2|2 - 9| - 3(4 + 2)?\\n\\n-32\\n\\n-26\\n\\n-15\\n\\n-5\\n\\n-4\\n\\n45. For all real numbers a, b, and c, which of the following expressions is equal to |a - b - c|?\\n\\n|a + b + c|\\n\\n|a + b - c|\\n\\n|a - b + c|\\n\\n|-a +b + c|\\n\\n|-a - b - c|\\n\\n58. What is the minimum value of f(x) = | -(x - h)2 + k| - q for each set of positive real numbers, h, k, and q?\\n\\n-q\\n\\n-k\\n\\nK\\n\\n-k - q\\n\\nk - q\\n\\nJune 2017\\n\\n10. What is the value of |-6| - |7 - 41| ?\\n\\n-40\\n\\n-28\\n\\n28\\n\\n40\\n\\n54\\n\\nApril 2017\\n\\n15. What is the value of the expression below?\\n\\n\\t\\t| | -8 + 4 | - | 3 - 9 | |\\n\\n-18\\n\\n-2\\n\\n0\\n\\n2\\n\\n18\\n\\n40. The equation |2x - 8| + 3 = 5 has 2 solutions. Those solutions are equal to the solutions to which of the following pairs of equations?\\n\\n2x - 5 = 5\\n-2x - 5 = -5\\n\\n2x - 8 = 2\\n-2x - 8 = 2\\n\\n2x - 8 = 8\\n-(2x - 8) = 8\\n\\n2x - 8 = 2\\n-(2x - 8) = 8\\n\\n2x - 8 = 2\\n-(2x - 8) = 2'"
      ]
     },
     "execution_count": 29,
     "metadata": {},
     "output_type": "execute_result"
    }
   ],
   "source": [
    "text"
   ]
  },
  {
   "cell_type": "code",
   "execution_count": 42,
   "metadata": {},
   "outputs": [],
   "source": [
    "text_split = [line.split('\\n') for line in StringIO(text).read().split('\\n\\n')]"
   ]
  },
  {
   "cell_type": "code",
   "execution_count": 43,
   "metadata": {},
   "outputs": [],
   "source": [
    "text_split = [item for items in text_split for item in items]\n",
    "text_split = [item for items]"
   ]
  },
  {
   "cell_type": "code",
   "execution_count": 110,
   "metadata": {},
   "outputs": [
    {
     "data": {
      "text/plain": [
       "['Absolute Values',\n",
       " '',\n",
       " 'April 2015',\n",
       " '1. |3(-2) + 4| = ?',\n",
       " '-2',\n",
       " '2',\n",
       " '5',\n",
       " '9',\n",
       " '10',\n",
       " 'December 2015',\n",
       " '40. What is the set of real solutions for |x|2 - |x| - 2 = 0?',\n",
       " '{2}',\n",
       " '{-2, 2}',\n",
       " '{-1, 2}',\n",
       " '{1, 2}',\n",
       " '{-2, -1, 1, 2}',\n",
       " 'June 2016',\n",
       " '15. |6(-7) + 4(8)| = ?',\n",
       " '-144',\n",
       " '-10',\n",
       " '10',\n",
       " '74',\n",
       " '144',\n",
       " '54. The graphs of the functions y = f(x) = (x - 3)2 + 2 and y = g(x) = (½)x + (½) are shown in the standard (x,y) coordinate plane below. Which of the following is NOT true?',\n",
       " '*******picture******',\n",
       " '|f(x)| = f(x)',\n",
       " '|g(x)| = g(x)',\n",
       " 'f(3) = g(3)',\n",
       " 'f(3 ½ ) = g(3 ½ )',\n",
       " 'f(g(1)) = 6',\n",
       " 'April 2016',\n",
       " '1. What is |5 - x| when x=9?',\n",
       " '-14',\n",
       " '-4',\n",
       " '4',\n",
       " '9',\n",
       " '14',\n",
       " 'December 2016',\n",
       " '5. What is the value of 2|2 - 9| - 3(4 + 2)?',\n",
       " '-32',\n",
       " '-26',\n",
       " '-15',\n",
       " '-5',\n",
       " '-4',\n",
       " '45. For all real numbers a, b, and c, which of the following expressions is equal to |a - b - c|?',\n",
       " '|a + b + c|',\n",
       " '|a + b - c|',\n",
       " '|a - b + c|',\n",
       " '|-a +b + c|',\n",
       " '|-a - b - c|',\n",
       " '58. What is the minimum value of f(x) = | -(x - h)2 + k| - q for each set of positive real numbers, h, k, and q?',\n",
       " '-q',\n",
       " '-k',\n",
       " 'K',\n",
       " '-k - q',\n",
       " 'k - q',\n",
       " 'June 2017',\n",
       " '10. What is the value of |-6| - |7 - 41| ?',\n",
       " '-40',\n",
       " '-28',\n",
       " '28',\n",
       " '40',\n",
       " '54',\n",
       " 'April 2017',\n",
       " '15. What is the value of the expression below?',\n",
       " '\\t\\t| | -8 + 4 | - | 3 - 9 | |',\n",
       " '-18',\n",
       " '-2',\n",
       " '0',\n",
       " '2',\n",
       " '18',\n",
       " '40. The equation |2x - 8| + 3 = 5 has 2 solutions. Those solutions are equal to the solutions to which of the following pairs of equations?',\n",
       " '2x - 5 = 5',\n",
       " '-2x - 5 = -5',\n",
       " '2x - 8 = 2',\n",
       " '-2x - 8 = 2',\n",
       " '2x - 8 = 8',\n",
       " '-(2x - 8) = 8',\n",
       " '2x - 8 = 2',\n",
       " '-(2x - 8) = 8',\n",
       " '2x - 8 = 2',\n",
       " '-(2x - 8) = 2']"
      ]
     },
     "execution_count": 110,
     "metadata": {},
     "output_type": "execute_result"
    }
   ],
   "source": [
    "text_split"
   ]
  },
  {
   "cell_type": "code",
   "execution_count": 185,
   "metadata": {},
   "outputs": [],
   "source": [
    "for text in text_split[1:80]:\n",
    "    match = re.search('^..[.]  | ^ .[.]', text)\n",
    "    if match:\n",
    "        print (match.group())"
   ]
  },
  {
   "cell_type": "code",
   "execution_count": 45,
   "metadata": {},
   "outputs": [],
   "source": [
    "columns = ['year_month','question_num','question','A','B','C','D','E','F','G','H','I','J','K','L','M','N',]\n",
    "df_absolute_values = pd.DataFrame(columns=columns, dtype='U')"
   ]
  },
  {
   "cell_type": "code",
   "execution_count": 46,
   "metadata": {
    "scrolled": true
   },
   "outputs": [
    {
     "data": {
      "text/html": [
       "<div>\n",
       "<style scoped>\n",
       "    .dataframe tbody tr th:only-of-type {\n",
       "        vertical-align: middle;\n",
       "    }\n",
       "\n",
       "    .dataframe tbody tr th {\n",
       "        vertical-align: top;\n",
       "    }\n",
       "\n",
       "    .dataframe thead th {\n",
       "        text-align: right;\n",
       "    }\n",
       "</style>\n",
       "<table border=\"1\" class=\"dataframe\">\n",
       "  <thead>\n",
       "    <tr style=\"text-align: right;\">\n",
       "      <th></th>\n",
       "      <th>year_month</th>\n",
       "      <th>question_num</th>\n",
       "      <th>question</th>\n",
       "      <th>A</th>\n",
       "      <th>B</th>\n",
       "      <th>C</th>\n",
       "      <th>D</th>\n",
       "      <th>E</th>\n",
       "      <th>F</th>\n",
       "      <th>G</th>\n",
       "      <th>H</th>\n",
       "      <th>I</th>\n",
       "      <th>J</th>\n",
       "      <th>K</th>\n",
       "      <th>L</th>\n",
       "      <th>M</th>\n",
       "      <th>N</th>\n",
       "    </tr>\n",
       "  </thead>\n",
       "  <tbody>\n",
       "  </tbody>\n",
       "</table>\n",
       "</div>"
      ],
      "text/plain": [
       "Empty DataFrame\n",
       "Columns: [year_month, question_num, question, A, B, C, D, E, F, G, H, I, J, K, L, M, N]\n",
       "Index: []"
      ]
     },
     "execution_count": 46,
     "metadata": {},
     "output_type": "execute_result"
    }
   ],
   "source": [
    "df_absolute_values"
   ]
  },
  {
   "cell_type": "code",
   "execution_count": 47,
   "metadata": {},
   "outputs": [
    {
     "data": {
      "text/plain": [
       "'1. |3(-2) + 4| = ?'"
      ]
     },
     "execution_count": 47,
     "metadata": {},
     "output_type": "execute_result"
    }
   ],
   "source": [
    "line"
   ]
  },
  {
   "cell_type": "code",
   "execution_count": 50,
   "metadata": {},
   "outputs": [
    {
     "name": "stdout",
     "output_type": "stream",
     "text": [
      "2\n",
      "['year_month', 'question_num', 'question']\n",
      "['Absolute Values', '', 'April 2015']\n",
      "2\n",
      "['year_month', 'question_num', 'question']\n",
      "['Absolute Values', '', 'April 2015']\n",
      "2\n",
      "['year_month', 'question_num', 'question']\n",
      "['Absolute Values', '', 'April 2015']\n"
     ]
    },
    {
     "name": "stderr",
     "output_type": "stream",
     "text": [
      "C:\\Users\\Bryant\\Anaconda3\\lib\\site-packages\\pandas\\core\\frame.py:5175: RuntimeWarning: unorderable types: str() < int(), sort order is undefined for incomparable objects\n",
      "  other.index).difference(self.columns).tolist()\n"
     ]
    },
    {
     "data": {
      "text/html": [
       "<div>\n",
       "<style scoped>\n",
       "    .dataframe tbody tr th:only-of-type {\n",
       "        vertical-align: middle;\n",
       "    }\n",
       "\n",
       "    .dataframe tbody tr th {\n",
       "        vertical-align: top;\n",
       "    }\n",
       "\n",
       "    .dataframe thead th {\n",
       "        text-align: right;\n",
       "    }\n",
       "</style>\n",
       "<table border=\"1\" class=\"dataframe\">\n",
       "  <thead>\n",
       "    <tr style=\"text-align: right;\">\n",
       "      <th></th>\n",
       "      <th>year_month</th>\n",
       "      <th>question_num</th>\n",
       "      <th>question</th>\n",
       "      <th>A</th>\n",
       "      <th>B</th>\n",
       "      <th>C</th>\n",
       "      <th>D</th>\n",
       "      <th>E</th>\n",
       "      <th>F</th>\n",
       "      <th>G</th>\n",
       "      <th>H</th>\n",
       "      <th>I</th>\n",
       "      <th>J</th>\n",
       "      <th>K</th>\n",
       "      <th>L</th>\n",
       "      <th>M</th>\n",
       "      <th>N</th>\n",
       "    </tr>\n",
       "  </thead>\n",
       "  <tbody>\n",
       "  </tbody>\n",
       "</table>\n",
       "</div>"
      ],
      "text/plain": [
       "Empty DataFrame\n",
       "Columns: [year_month, question_num, question, A, B, C, D, E, F, G, H, I, J, K, L, M, N]\n",
       "Index: []"
      ]
     },
     "execution_count": 50,
     "metadata": {},
     "output_type": "execute_result"
    }
   ],
   "source": [
    "for line in text_split:\n",
    "    if re.search('(^.\\. | ^..\\. | ^.\\) | ^..\\))', line):\n",
    "        print(2)\n",
    "        if len(dummy_list) > 0:\n",
    "            dummy_columns = columns[0:(len(dummy_list))]\n",
    "            dummy_series = pd.Series(dummy_list)\n",
    "            df_absolute_values.append(dummy_series,ignore_index=True)\n",
    "            print(dummy_columns)\n",
    "            print(dummy_list)\n",
    "            \n",
    "df_absolute_values"
   ]
  },
  {
   "cell_type": "code",
   "execution_count": 39,
   "metadata": {},
   "outputs": [
    {
     "data": {
      "text/plain": [
       "<bound method IndexOpsMixin.transpose of 0    Absolute Values\n",
       "1                   \n",
       "2         April 2015\n",
       "dtype: object>"
      ]
     },
     "execution_count": 39,
     "metadata": {},
     "output_type": "execute_result"
    }
   ],
   "source": [
    "test = pd.Series(dummy_list).transpose\n",
    "test"
   ]
  },
  {
   "cell_type": "code",
   "execution_count": 40,
   "metadata": {
    "scrolled": false
   },
   "outputs": [
    {
     "name": "stderr",
     "output_type": "stream",
     "text": [
      "C:\\Users\\Bryant\\Anaconda3\\lib\\site-packages\\pandas\\core\\indexes\\api.py:87: RuntimeWarning: unorderable types: str() < int(), sort order is undefined for incomparable objects\n",
      "  result = result.union(other)\n"
     ]
    },
    {
     "data": {
      "text/html": [
       "<div>\n",
       "<style scoped>\n",
       "    .dataframe tbody tr th:only-of-type {\n",
       "        vertical-align: middle;\n",
       "    }\n",
       "\n",
       "    .dataframe tbody tr th {\n",
       "        vertical-align: top;\n",
       "    }\n",
       "\n",
       "    .dataframe thead th {\n",
       "        text-align: right;\n",
       "    }\n",
       "</style>\n",
       "<table border=\"1\" class=\"dataframe\">\n",
       "  <thead>\n",
       "    <tr style=\"text-align: right;\">\n",
       "      <th></th>\n",
       "      <th>year_month</th>\n",
       "      <th>question_num</th>\n",
       "      <th>question</th>\n",
       "      <th>A</th>\n",
       "      <th>B</th>\n",
       "      <th>C</th>\n",
       "      <th>D</th>\n",
       "      <th>E</th>\n",
       "      <th>F</th>\n",
       "      <th>G</th>\n",
       "      <th>H</th>\n",
       "      <th>I</th>\n",
       "      <th>J</th>\n",
       "      <th>K</th>\n",
       "      <th>L</th>\n",
       "      <th>M</th>\n",
       "      <th>N</th>\n",
       "      <th>0</th>\n",
       "    </tr>\n",
       "  </thead>\n",
       "  <tbody>\n",
       "    <tr>\n",
       "      <th>0</th>\n",
       "      <td>NaN</td>\n",
       "      <td>NaN</td>\n",
       "      <td>NaN</td>\n",
       "      <td>NaN</td>\n",
       "      <td>NaN</td>\n",
       "      <td>NaN</td>\n",
       "      <td>NaN</td>\n",
       "      <td>NaN</td>\n",
       "      <td>NaN</td>\n",
       "      <td>NaN</td>\n",
       "      <td>NaN</td>\n",
       "      <td>NaN</td>\n",
       "      <td>NaN</td>\n",
       "      <td>NaN</td>\n",
       "      <td>NaN</td>\n",
       "      <td>NaN</td>\n",
       "      <td>NaN</td>\n",
       "      <td>&lt;bound method IndexOpsMixin.transpose of 0    ...</td>\n",
       "    </tr>\n",
       "    <tr>\n",
       "      <th>1</th>\n",
       "      <td>NaN</td>\n",
       "      <td>NaN</td>\n",
       "      <td>NaN</td>\n",
       "      <td>NaN</td>\n",
       "      <td>NaN</td>\n",
       "      <td>NaN</td>\n",
       "      <td>NaN</td>\n",
       "      <td>NaN</td>\n",
       "      <td>NaN</td>\n",
       "      <td>NaN</td>\n",
       "      <td>NaN</td>\n",
       "      <td>NaN</td>\n",
       "      <td>NaN</td>\n",
       "      <td>NaN</td>\n",
       "      <td>NaN</td>\n",
       "      <td>NaN</td>\n",
       "      <td>NaN</td>\n",
       "      <td>Empty DataFrame\n",
       "Columns: [year_month, question...</td>\n",
       "    </tr>\n",
       "  </tbody>\n",
       "</table>\n",
       "</div>"
      ],
      "text/plain": [
       "  year_month question_num question    A    B    C    D    E    F    G    H  \\\n",
       "0        NaN          NaN      NaN  NaN  NaN  NaN  NaN  NaN  NaN  NaN  NaN   \n",
       "1        NaN          NaN      NaN  NaN  NaN  NaN  NaN  NaN  NaN  NaN  NaN   \n",
       "\n",
       "     I    J    K    L    M    N  \\\n",
       "0  NaN  NaN  NaN  NaN  NaN  NaN   \n",
       "1  NaN  NaN  NaN  NaN  NaN  NaN   \n",
       "\n",
       "                                                   0  \n",
       "0  <bound method IndexOpsMixin.transpose of 0    ...  \n",
       "1  Empty DataFrame\n",
       "Columns: [year_month, question...  "
      ]
     },
     "execution_count": 40,
     "metadata": {},
     "output_type": "execute_result"
    }
   ],
   "source": [
    "     \n",
    "df_absolute_values.append([test, df_absolute_values])"
   ]
  },
  {
   "cell_type": "code",
   "execution_count": 173,
   "metadata": {},
   "outputs": [
    {
     "name": "stdout",
     "output_type": "stream",
     "text": [
      "40. \n",
      "15. \n",
      "54. \n",
      "45. \n",
      "58. \n",
      "10. \n",
      "15. \n",
      "40. \n"
     ]
    }
   ],
   "source": [
    "for text in text_split[1:80]:\n",
    "    match = re.search('..\\. | .\\. | s', text)\n",
    "    if match:\n",
    "        print (match.group())"
   ]
  },
  {
   "cell_type": "code",
   "execution_count": 208,
   "metadata": {},
   "outputs": [],
   "source": [
    "title = text_split[0]\n",
    "full_list = []\n",
    "new = []\n",
    "for line in text_split[1:80]:\n",
    "    if re.search('(^December|June|April|July)', line):\n",
    "        date = line\n",
    "    if re.search('^..\\.', line):\n",
    "        if len(new) > 0:\n",
    "            full_list.append(new)\n",
    "            new = []\n",
    "        new.append(title)\n",
    "        new.append(date)\n",
    "        new.append(line)\n",
    "        continue\n",
    "    if re.search('^.\\.', line):\n",
    "        if len(new) > 0:\n",
    "            full_list.append(new)\n",
    "            new = []\n",
    "        new.append(title)\n",
    "        new.append(date)\n",
    "        new.append(line)\n",
    "        continue\n",
    "    else:\n",
    "        new.append(line)"
   ]
  },
  {
   "cell_type": "code",
   "execution_count": 209,
   "metadata": {},
   "outputs": [
    {
     "data": {
      "text/plain": [
       "[['', 'April 2015'],\n",
       " ['Absolute Values',\n",
       "  'April 2015',\n",
       "  '1. |3(-2) + 4| = ?',\n",
       "  '-2',\n",
       "  '2',\n",
       "  '5',\n",
       "  '9',\n",
       "  '10',\n",
       "  'December 2015'],\n",
       " ['Absolute Values',\n",
       "  'December 2015',\n",
       "  '40. What is the set of real solutions for |x|2 - |x| - 2 = 0?',\n",
       "  '{2}',\n",
       "  '{-2, 2}',\n",
       "  '{-1, 2}',\n",
       "  '{1, 2}',\n",
       "  '{-2, -1, 1, 2}',\n",
       "  'June 2016'],\n",
       " ['Absolute Values',\n",
       "  'June 2016',\n",
       "  '15. |6(-7) + 4(8)| = ?',\n",
       "  '-144',\n",
       "  '-10',\n",
       "  '10',\n",
       "  '74',\n",
       "  '144'],\n",
       " ['Absolute Values',\n",
       "  'June 2016',\n",
       "  '54. The graphs of the functions y = f(x) = (x - 3)2 + 2 and y = g(x) = (½)x + (½) are shown in the standard (x,y) coordinate plane below. Which of the following is NOT true?',\n",
       "  '*******picture******',\n",
       "  '|f(x)| = f(x)',\n",
       "  '|g(x)| = g(x)',\n",
       "  'f(3) = g(3)',\n",
       "  'f(3 ½ ) = g(3 ½ )',\n",
       "  'f(g(1)) = 6',\n",
       "  'April 2016'],\n",
       " ['Absolute Values',\n",
       "  'April 2016',\n",
       "  '1. What is |5 - x| when x=9?',\n",
       "  '-14',\n",
       "  '-4',\n",
       "  '4',\n",
       "  '9',\n",
       "  '14',\n",
       "  'December 2016'],\n",
       " ['Absolute Values',\n",
       "  'December 2016',\n",
       "  '5. What is the value of 2|2 - 9| - 3(4 + 2)?',\n",
       "  '-32',\n",
       "  '-26',\n",
       "  '-15',\n",
       "  '-5',\n",
       "  '-4'],\n",
       " ['Absolute Values',\n",
       "  'December 2016',\n",
       "  '45. For all real numbers a, b, and c, which of the following expressions is equal to |a - b - c|?',\n",
       "  '|a + b + c|',\n",
       "  '|a + b - c|',\n",
       "  '|a - b + c|',\n",
       "  '|-a +b + c|',\n",
       "  '|-a - b - c|'],\n",
       " ['Absolute Values',\n",
       "  'December 2016',\n",
       "  '58. What is the minimum value of f(x) = | -(x - h)2 + k| - q for each set of positive real numbers, h, k, and q?',\n",
       "  '-q',\n",
       "  '-k',\n",
       "  'K',\n",
       "  '-k - q',\n",
       "  'k - q',\n",
       "  'June 2017'],\n",
       " ['Absolute Values',\n",
       "  'June 2017',\n",
       "  '10. What is the value of |-6| - |7 - 41| ?',\n",
       "  '-40',\n",
       "  '-28',\n",
       "  '28',\n",
       "  '40',\n",
       "  '54',\n",
       "  'April 2017'],\n",
       " ['Absolute Values',\n",
       "  'April 2017',\n",
       "  '15. What is the value of the expression below?',\n",
       "  '\\t\\t| | -8 + 4 | - | 3 - 9 | |',\n",
       "  '-18',\n",
       "  '-2',\n",
       "  '0',\n",
       "  '2',\n",
       "  '18']]"
      ]
     },
     "execution_count": 209,
     "metadata": {},
     "output_type": "execute_result"
    }
   ],
   "source": [
    "full_list"
   ]
  },
  {
   "cell_type": "code",
   "execution_count": 23,
   "metadata": {},
   "outputs": [
    {
     "data": {
      "text/html": [
       "<div>\n",
       "<style scoped>\n",
       "    .dataframe tbody tr th:only-of-type {\n",
       "        vertical-align: middle;\n",
       "    }\n",
       "\n",
       "    .dataframe tbody tr th {\n",
       "        vertical-align: top;\n",
       "    }\n",
       "\n",
       "    .dataframe thead th {\n",
       "        text-align: right;\n",
       "    }\n",
       "</style>\n",
       "<table border=\"1\" class=\"dataframe\">\n",
       "  <thead>\n",
       "    <tr style=\"text-align: right;\">\n",
       "      <th></th>\n",
       "      <th>year_month</th>\n",
       "      <th>question_num</th>\n",
       "      <th>question</th>\n",
       "      <th>A</th>\n",
       "      <th>B</th>\n",
       "      <th>C</th>\n",
       "      <th>D</th>\n",
       "      <th>E</th>\n",
       "      <th>F</th>\n",
       "      <th>G</th>\n",
       "      <th>H</th>\n",
       "      <th>I</th>\n",
       "      <th>J</th>\n",
       "      <th>K</th>\n",
       "      <th>L</th>\n",
       "      <th>M</th>\n",
       "      <th>N</th>\n",
       "    </tr>\n",
       "  </thead>\n",
       "  <tbody>\n",
       "  </tbody>\n",
       "</table>\n",
       "</div>"
      ],
      "text/plain": [
       "Empty DataFrame\n",
       "Columns: [year_month, question_num, question, A, B, C, D, E, F, G, H, I, J, K, L, M, N]\n",
       "Index: []"
      ]
     },
     "execution_count": 23,
     "metadata": {},
     "output_type": "execute_result"
    }
   ],
   "source": [
    "df_absolute_values"
   ]
  },
  {
   "cell_type": "code",
   "execution_count": 24,
   "metadata": {},
   "outputs": [
    {
     "data": {
      "text/plain": [
       "['year_month', 'question_num', 'question']"
      ]
     },
     "execution_count": 24,
     "metadata": {},
     "output_type": "execute_result"
    }
   ],
   "source": [
    "(dummy_columns)"
   ]
  },
  {
   "cell_type": "code",
   "execution_count": 25,
   "metadata": {},
   "outputs": [
    {
     "data": {
      "text/plain": [
       "['Absolute Values', '', 'April 2015']"
      ]
     },
     "execution_count": 25,
     "metadata": {},
     "output_type": "execute_result"
    }
   ],
   "source": [
    "(dummy_list)"
   ]
  },
  {
   "cell_type": "code",
   "execution_count": 26,
   "metadata": {},
   "outputs": [
    {
     "data": {
      "text/plain": [
       "['year_month', 'question_num', 'question']"
      ]
     },
     "execution_count": 26,
     "metadata": {},
     "output_type": "execute_result"
    }
   ],
   "source": [
    "dummy_columns"
   ]
  },
  {
   "cell_type": "code",
   "execution_count": null,
   "metadata": {},
   "outputs": [],
   "source": []
  },
  {
   "cell_type": "code",
   "execution_count": null,
   "metadata": {},
   "outputs": [],
   "source": []
  }
 ],
 "metadata": {
  "kernelspec": {
   "display_name": "Python [default]",
   "language": "python",
   "name": "python3"
  },
  "language_info": {
   "codemirror_mode": {
    "name": "ipython",
    "version": 3
   },
   "file_extension": ".py",
   "mimetype": "text/x-python",
   "name": "python",
   "nbconvert_exporter": "python",
   "pygments_lexer": "ipython3",
   "version": "3.5.5"
  }
 },
 "nbformat": 4,
 "nbformat_minor": 2
}
